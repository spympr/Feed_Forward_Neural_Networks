{
 "cells": [
  {
   "cell_type": "markdown",
   "metadata": {
    "id": "r0RhtpNTkEAJ"
   },
   "source": [
    "# Evaluation of our Neural Network Models (on TfIdf vectorized dataset)."
   ]
  },
  {
   "cell_type": "markdown",
   "metadata": {
    "id": "6tGbU9nxjZZ8"
   },
   "source": [
    "## Import useful libraries."
   ]
  },
  {
   "cell_type": "code",
   "execution_count": 1,
   "metadata": {
    "colab": {
     "base_uri": "https://localhost:8080/"
    },
    "executionInfo": {
     "elapsed": 2064,
     "status": "ok",
     "timestamp": 1606219346830,
     "user": {
      "displayName": "Σπύρος Μπριάκος",
      "photoUrl": "https://lh3.googleusercontent.com/a-/AOh14GjNL6_AeJ04NmNTaMqHmM_937BV9V7KYBr1Gkx9_g=s64",
      "userId": "14497433372697123826"
     },
     "user_tz": -120
    },
    "id": "o0rj5EcZkAhB",
    "outputId": "ca6451b9-a67d-4455-9b82-871d5ce7844c"
   },
   "outputs": [
    {
     "name": "stdout",
     "output_type": "stream",
     "text": [
      "Drive already mounted at /content/drive/; to attempt to forcibly remount, call drive.mount(\"/content/drive/\", force_remount=True).\n",
      "[nltk_data] Downloading package wordnet to /root/nltk_data...\n",
      "[nltk_data]   Package wordnet is already up-to-date!\n"
     ]
    },
    {
     "data": {
      "text/plain": [
       "True"
      ]
     },
     "execution_count": 1,
     "metadata": {
      "tags": []
     },
     "output_type": "execute_result"
    }
   ],
   "source": [
    "import pandas as pd\n",
    "import numpy as np\n",
    "import matplotlib.pyplot as plt \n",
    "import string\n",
    "import re\n",
    "import nltk\n",
    "import pickle\n",
    "\n",
    "from gensim.utils import simple_preprocess\n",
    "from gensim import corpora\n",
    "\n",
    "from sklearn.model_selection import train_test_split\n",
    "from sklearn.linear_model import LogisticRegression \n",
    "from sklearn.feature_extraction.text import TfidfVectorizer,CountVectorizer\n",
    "from sklearn.metrics import recall_score,f1_score,precision_score,classification_report,roc_curve, auc\n",
    "from sklearn.model_selection import cross_val_score\n",
    "from sklearn.preprocessing import label_binarize\n",
    "\n",
    "import torch\n",
    "import torch.nn as nn\n",
    "import torch.nn.functional as F\n",
    "import torch.optim as optim\n",
    "\n",
    "from google.colab import drive\n",
    "drive.mount('/content/drive/')\n",
    "nltk.download('wordnet')"
   ]
  },
  {
   "cell_type": "markdown",
   "metadata": {
    "id": "IaPejdFWjeT2"
   },
   "source": [
    "## Retrieve and clean our dataset."
   ]
  },
  {
   "cell_type": "markdown",
   "metadata": {
    "id": "OhncMnd5jnGz"
   },
   "source": [
    "### Retrieve and display our dataset!"
   ]
  },
  {
   "cell_type": "code",
   "execution_count": 2,
   "metadata": {
    "colab": {
     "base_uri": "https://localhost:8080/",
     "height": 821
    },
    "executionInfo": {
     "elapsed": 3708,
     "status": "ok",
     "timestamp": 1606219348487,
     "user": {
      "displayName": "Σπύρος Μπριάκος",
      "photoUrl": "https://lh3.googleusercontent.com/a-/AOh14GjNL6_AeJ04NmNTaMqHmM_937BV9V7KYBr1Gkx9_g=s64",
      "userId": "14497433372697123826"
     },
     "user_tz": -120
    },
    "id": "dd42iUya4M4g",
    "outputId": "0beed58f-d8f1-44b6-a402-79458ca212da"
   },
   "outputs": [
    {
     "data": {
      "text/html": [
       "<div>\n",
       "<style scoped>\n",
       "    .dataframe tbody tr th:only-of-type {\n",
       "        vertical-align: middle;\n",
       "    }\n",
       "\n",
       "    .dataframe tbody tr th {\n",
       "        vertical-align: top;\n",
       "    }\n",
       "\n",
       "    .dataframe thead th {\n",
       "        text-align: right;\n",
       "    }\n",
       "</style>\n",
       "<table border=\"1\" class=\"dataframe\">\n",
       "  <thead>\n",
       "    <tr style=\"text-align: right;\">\n",
       "      <th></th>\n",
       "      <th>text</th>\n",
       "    </tr>\n",
       "  </thead>\n",
       "  <tbody>\n",
       "    <tr>\n",
       "      <th>0</th>\n",
       "      <td>#brokenpromises...</td>\n",
       "    </tr>\n",
       "    <tr>\n",
       "      <th>1</th>\n",
       "      <td>David Carradine  so sad. Thai's law not sure i...</td>\n",
       "    </tr>\n",
       "    <tr>\n",
       "      <th>2</th>\n",
       "      <td>A @ 415 B @ 425. Tell your bro i say congrats!</td>\n",
       "    </tr>\n",
       "    <tr>\n",
       "      <th>3</th>\n",
       "      <td>@littlefluffycat  Indeed.</td>\n",
       "    </tr>\n",
       "    <tr>\n",
       "      <th>4</th>\n",
       "      <td>Completed Race 4 Life in 58mins with girlies f...</td>\n",
       "    </tr>\n",
       "    <tr>\n",
       "      <th>...</th>\n",
       "      <td>...</td>\n",
       "    </tr>\n",
       "    <tr>\n",
       "      <th>499995</th>\n",
       "      <td>@SkyNews they've finally managed to kill F1!</td>\n",
       "    </tr>\n",
       "    <tr>\n",
       "      <th>499996</th>\n",
       "      <td>@elvensapphire I'm brazilian so brazilian are ...</td>\n",
       "    </tr>\n",
       "    <tr>\n",
       "      <th>499997</th>\n",
       "      <td>@ScherziNicole Aww thats so sweet! I joined a ...</td>\n",
       "    </tr>\n",
       "    <tr>\n",
       "      <th>499998</th>\n",
       "      <td>Woke up kinda depressed and sad</td>\n",
       "    </tr>\n",
       "    <tr>\n",
       "      <th>499999</th>\n",
       "      <td>Wish I had something to play my dad's old Clas...</td>\n",
       "    </tr>\n",
       "  </tbody>\n",
       "</table>\n",
       "<p>500000 rows × 1 columns</p>\n",
       "</div>"
      ],
      "text/plain": [
       "                                                     text\n",
       "0                                     #brokenpromises... \n",
       "1       David Carradine  so sad. Thai's law not sure i...\n",
       "2         A @ 415 B @ 425. Tell your bro i say congrats! \n",
       "3                               @littlefluffycat  Indeed.\n",
       "4       Completed Race 4 Life in 58mins with girlies f...\n",
       "...                                                   ...\n",
       "499995      @SkyNews they've finally managed to kill F1! \n",
       "499996  @elvensapphire I'm brazilian so brazilian are ...\n",
       "499997  @ScherziNicole Aww thats so sweet! I joined a ...\n",
       "499998                   Woke up kinda depressed and sad \n",
       "499999  Wish I had something to play my dad's old Clas...\n",
       "\n",
       "[500000 rows x 1 columns]"
      ]
     },
     "metadata": {
      "tags": []
     },
     "output_type": "display_data"
    },
    {
     "data": {
      "text/html": [
       "<div>\n",
       "<style scoped>\n",
       "    .dataframe tbody tr th:only-of-type {\n",
       "        vertical-align: middle;\n",
       "    }\n",
       "\n",
       "    .dataframe tbody tr th {\n",
       "        vertical-align: top;\n",
       "    }\n",
       "\n",
       "    .dataframe thead th {\n",
       "        text-align: right;\n",
       "    }\n",
       "</style>\n",
       "<table border=\"1\" class=\"dataframe\">\n",
       "  <thead>\n",
       "    <tr style=\"text-align: right;\">\n",
       "      <th></th>\n",
       "      <th>target</th>\n",
       "    </tr>\n",
       "  </thead>\n",
       "  <tbody>\n",
       "    <tr>\n",
       "      <th>0</th>\n",
       "      <td>0</td>\n",
       "    </tr>\n",
       "    <tr>\n",
       "      <th>1</th>\n",
       "      <td>0</td>\n",
       "    </tr>\n",
       "    <tr>\n",
       "      <th>2</th>\n",
       "      <td>4</td>\n",
       "    </tr>\n",
       "    <tr>\n",
       "      <th>3</th>\n",
       "      <td>4</td>\n",
       "    </tr>\n",
       "    <tr>\n",
       "      <th>4</th>\n",
       "      <td>4</td>\n",
       "    </tr>\n",
       "    <tr>\n",
       "      <th>...</th>\n",
       "      <td>...</td>\n",
       "    </tr>\n",
       "    <tr>\n",
       "      <th>499995</th>\n",
       "      <td>0</td>\n",
       "    </tr>\n",
       "    <tr>\n",
       "      <th>499996</th>\n",
       "      <td>0</td>\n",
       "    </tr>\n",
       "    <tr>\n",
       "      <th>499997</th>\n",
       "      <td>4</td>\n",
       "    </tr>\n",
       "    <tr>\n",
       "      <th>499998</th>\n",
       "      <td>0</td>\n",
       "    </tr>\n",
       "    <tr>\n",
       "      <th>499999</th>\n",
       "      <td>0</td>\n",
       "    </tr>\n",
       "  </tbody>\n",
       "</table>\n",
       "<p>500000 rows × 1 columns</p>\n",
       "</div>"
      ],
      "text/plain": [
       "        target\n",
       "0            0\n",
       "1            0\n",
       "2            4\n",
       "3            4\n",
       "4            4\n",
       "...        ...\n",
       "499995       0\n",
       "499996       0\n",
       "499997       4\n",
       "499998       0\n",
       "499999       0\n",
       "\n",
       "[500000 rows x 1 columns]"
      ]
     },
     "metadata": {
      "tags": []
     },
     "output_type": "display_data"
    }
   ],
   "source": [
    "data = pd.read_csv(r'/content/drive/My Drive/AI(II)/datasets/SentimentTweets.csv',nrows=500000)\n",
    "\n",
    "X = pd.DataFrame(data['text'],columns=['text'])\n",
    "Y = pd.DataFrame(data['target'],columns=['target'])\n",
    "\n",
    "display(X,Y)"
   ]
  },
  {
   "cell_type": "markdown",
   "metadata": {
    "id": "Lf_WkEwglFmk"
   },
   "source": [
    "### Convert to lowercase."
   ]
  },
  {
   "cell_type": "code",
   "execution_count": 3,
   "metadata": {
    "colab": {
     "base_uri": "https://localhost:8080/",
     "height": 419
    },
    "executionInfo": {
     "elapsed": 3699,
     "status": "ok",
     "timestamp": 1606219348489,
     "user": {
      "displayName": "Σπύρος Μπριάκος",
      "photoUrl": "https://lh3.googleusercontent.com/a-/AOh14GjNL6_AeJ04NmNTaMqHmM_937BV9V7KYBr1Gkx9_g=s64",
      "userId": "14497433372697123826"
     },
     "user_tz": -120
    },
    "id": "DevHcQ92lJFK",
    "outputId": "2d101ada-ba37-41d9-b08b-3df8752df8ae"
   },
   "outputs": [
    {
     "data": {
      "text/html": [
       "<div>\n",
       "<style scoped>\n",
       "    .dataframe tbody tr th:only-of-type {\n",
       "        vertical-align: middle;\n",
       "    }\n",
       "\n",
       "    .dataframe tbody tr th {\n",
       "        vertical-align: top;\n",
       "    }\n",
       "\n",
       "    .dataframe thead th {\n",
       "        text-align: right;\n",
       "    }\n",
       "</style>\n",
       "<table border=\"1\" class=\"dataframe\">\n",
       "  <thead>\n",
       "    <tr style=\"text-align: right;\">\n",
       "      <th></th>\n",
       "      <th>text</th>\n",
       "    </tr>\n",
       "  </thead>\n",
       "  <tbody>\n",
       "    <tr>\n",
       "      <th>0</th>\n",
       "      <td>#brokenpromises...</td>\n",
       "    </tr>\n",
       "    <tr>\n",
       "      <th>1</th>\n",
       "      <td>david carradine  so sad. thai's law not sure i...</td>\n",
       "    </tr>\n",
       "    <tr>\n",
       "      <th>2</th>\n",
       "      <td>a @ 415 b @ 425. tell your bro i say congrats!</td>\n",
       "    </tr>\n",
       "    <tr>\n",
       "      <th>3</th>\n",
       "      <td>@littlefluffycat  indeed.</td>\n",
       "    </tr>\n",
       "    <tr>\n",
       "      <th>4</th>\n",
       "      <td>completed race 4 life in 58mins with girlies f...</td>\n",
       "    </tr>\n",
       "    <tr>\n",
       "      <th>...</th>\n",
       "      <td>...</td>\n",
       "    </tr>\n",
       "    <tr>\n",
       "      <th>499995</th>\n",
       "      <td>@skynews they've finally managed to kill f1!</td>\n",
       "    </tr>\n",
       "    <tr>\n",
       "      <th>499996</th>\n",
       "      <td>@elvensapphire i'm brazilian so brazilian are ...</td>\n",
       "    </tr>\n",
       "    <tr>\n",
       "      <th>499997</th>\n",
       "      <td>@scherzinicole aww thats so sweet! i joined a ...</td>\n",
       "    </tr>\n",
       "    <tr>\n",
       "      <th>499998</th>\n",
       "      <td>woke up kinda depressed and sad</td>\n",
       "    </tr>\n",
       "    <tr>\n",
       "      <th>499999</th>\n",
       "      <td>wish i had something to play my dad's old clas...</td>\n",
       "    </tr>\n",
       "  </tbody>\n",
       "</table>\n",
       "<p>500000 rows × 1 columns</p>\n",
       "</div>"
      ],
      "text/plain": [
       "                                                     text\n",
       "0                                     #brokenpromises... \n",
       "1       david carradine  so sad. thai's law not sure i...\n",
       "2         a @ 415 b @ 425. tell your bro i say congrats! \n",
       "3                               @littlefluffycat  indeed.\n",
       "4       completed race 4 life in 58mins with girlies f...\n",
       "...                                                   ...\n",
       "499995      @skynews they've finally managed to kill f1! \n",
       "499996  @elvensapphire i'm brazilian so brazilian are ...\n",
       "499997  @scherzinicole aww thats so sweet! i joined a ...\n",
       "499998                   woke up kinda depressed and sad \n",
       "499999  wish i had something to play my dad's old clas...\n",
       "\n",
       "[500000 rows x 1 columns]"
      ]
     },
     "metadata": {
      "tags": []
     },
     "output_type": "display_data"
    }
   ],
   "source": [
    "X['text'] = X['text'].str.lower()\n",
    "display(X)"
   ]
  },
  {
   "cell_type": "markdown",
   "metadata": {
    "id": "vJMxwqDLmIWm"
   },
   "source": [
    "### Replace where is 4 to 1 (binary form)."
   ]
  },
  {
   "cell_type": "code",
   "execution_count": 4,
   "metadata": {
    "colab": {
     "base_uri": "https://localhost:8080/",
     "height": 487
    },
    "executionInfo": {
     "elapsed": 4210,
     "status": "ok",
     "timestamp": 1606219349011,
     "user": {
      "displayName": "Σπύρος Μπριάκος",
      "photoUrl": "https://lh3.googleusercontent.com/a-/AOh14GjNL6_AeJ04NmNTaMqHmM_937BV9V7KYBr1Gkx9_g=s64",
      "userId": "14497433372697123826"
     },
     "user_tz": -120
    },
    "id": "6WpBOVnNmN2m",
    "outputId": "553c4303-a7cc-4fc5-ac66-470f65609987"
   },
   "outputs": [
    {
     "data": {
      "text/html": [
       "<div>\n",
       "<style scoped>\n",
       "    .dataframe tbody tr th:only-of-type {\n",
       "        vertical-align: middle;\n",
       "    }\n",
       "\n",
       "    .dataframe tbody tr th {\n",
       "        vertical-align: top;\n",
       "    }\n",
       "\n",
       "    .dataframe thead th {\n",
       "        text-align: right;\n",
       "    }\n",
       "</style>\n",
       "<table border=\"1\" class=\"dataframe\">\n",
       "  <thead>\n",
       "    <tr style=\"text-align: right;\">\n",
       "      <th></th>\n",
       "      <th>target</th>\n",
       "    </tr>\n",
       "  </thead>\n",
       "  <tbody>\n",
       "    <tr>\n",
       "      <th>0</th>\n",
       "      <td>0</td>\n",
       "    </tr>\n",
       "    <tr>\n",
       "      <th>1</th>\n",
       "      <td>0</td>\n",
       "    </tr>\n",
       "    <tr>\n",
       "      <th>2</th>\n",
       "      <td>1</td>\n",
       "    </tr>\n",
       "    <tr>\n",
       "      <th>3</th>\n",
       "      <td>1</td>\n",
       "    </tr>\n",
       "    <tr>\n",
       "      <th>4</th>\n",
       "      <td>1</td>\n",
       "    </tr>\n",
       "    <tr>\n",
       "      <th>...</th>\n",
       "      <td>...</td>\n",
       "    </tr>\n",
       "    <tr>\n",
       "      <th>499995</th>\n",
       "      <td>0</td>\n",
       "    </tr>\n",
       "    <tr>\n",
       "      <th>499996</th>\n",
       "      <td>0</td>\n",
       "    </tr>\n",
       "    <tr>\n",
       "      <th>499997</th>\n",
       "      <td>1</td>\n",
       "    </tr>\n",
       "    <tr>\n",
       "      <th>499998</th>\n",
       "      <td>0</td>\n",
       "    </tr>\n",
       "    <tr>\n",
       "      <th>499999</th>\n",
       "      <td>0</td>\n",
       "    </tr>\n",
       "  </tbody>\n",
       "</table>\n",
       "<p>500000 rows × 1 columns</p>\n",
       "</div>"
      ],
      "text/plain": [
       "        target\n",
       "0            0\n",
       "1            0\n",
       "2            1\n",
       "3            1\n",
       "4            1\n",
       "...        ...\n",
       "499995       0\n",
       "499996       0\n",
       "499997       1\n",
       "499998       0\n",
       "499999       0\n",
       "\n",
       "[500000 rows x 1 columns]"
      ]
     },
     "metadata": {
      "tags": []
     },
     "output_type": "display_data"
    },
    {
     "name": "stdout",
     "output_type": "stream",
     "text": [
      "target\n",
      "1         250800\n",
      "0         249200\n",
      "dtype: int64\n"
     ]
    }
   ],
   "source": [
    "Y = Y.replace(4,1)\n",
    "display(Y)\n",
    "print(Y.value_counts())"
   ]
  },
  {
   "cell_type": "markdown",
   "metadata": {
    "id": "XyOJ9-QepU0k"
   },
   "source": [
    "> As we can see classes (negative-positive) are uniformly distributed."
   ]
  },
  {
   "cell_type": "markdown",
   "metadata": {
    "id": "B8xlkDaNmXhI"
   },
   "source": [
    "### Removal of special characters and punctuation."
   ]
  },
  {
   "cell_type": "code",
   "execution_count": 5,
   "metadata": {
    "colab": {
     "base_uri": "https://localhost:8080/",
     "height": 419
    },
    "executionInfo": {
     "elapsed": 9074,
     "status": "ok",
     "timestamp": 1606219353886,
     "user": {
      "displayName": "Σπύρος Μπριάκος",
      "photoUrl": "https://lh3.googleusercontent.com/a-/AOh14GjNL6_AeJ04NmNTaMqHmM_937BV9V7KYBr1Gkx9_g=s64",
      "userId": "14497433372697123826"
     },
     "user_tz": -120
    },
    "id": "yk04tMzHmfEB",
    "outputId": "09fc0e8c-b05c-4262-ef29-06a00df5adce"
   },
   "outputs": [
    {
     "data": {
      "text/html": [
       "<div>\n",
       "<style scoped>\n",
       "    .dataframe tbody tr th:only-of-type {\n",
       "        vertical-align: middle;\n",
       "    }\n",
       "\n",
       "    .dataframe tbody tr th {\n",
       "        vertical-align: top;\n",
       "    }\n",
       "\n",
       "    .dataframe thead th {\n",
       "        text-align: right;\n",
       "    }\n",
       "</style>\n",
       "<table border=\"1\" class=\"dataframe\">\n",
       "  <thead>\n",
       "    <tr style=\"text-align: right;\">\n",
       "      <th></th>\n",
       "      <th>text</th>\n",
       "    </tr>\n",
       "  </thead>\n",
       "  <tbody>\n",
       "    <tr>\n",
       "      <th>0</th>\n",
       "      <td>brokenpromises</td>\n",
       "    </tr>\n",
       "    <tr>\n",
       "      <th>1</th>\n",
       "      <td>david carradine  so sad thais law not sure if ...</td>\n",
       "    </tr>\n",
       "    <tr>\n",
       "      <th>2</th>\n",
       "      <td>a  415 b  425 tell your bro i say congrats</td>\n",
       "    </tr>\n",
       "    <tr>\n",
       "      <th>3</th>\n",
       "      <td>littlefluffycat  indeed</td>\n",
       "    </tr>\n",
       "    <tr>\n",
       "      <th>4</th>\n",
       "      <td>completed race 4 life in 58mins with girlies f...</td>\n",
       "    </tr>\n",
       "    <tr>\n",
       "      <th>...</th>\n",
       "      <td>...</td>\n",
       "    </tr>\n",
       "    <tr>\n",
       "      <th>499995</th>\n",
       "      <td>skynews theyve finally managed to kill f1</td>\n",
       "    </tr>\n",
       "    <tr>\n",
       "      <th>499996</th>\n",
       "      <td>elvensapphire im brazilian so brazilian are an...</td>\n",
       "    </tr>\n",
       "    <tr>\n",
       "      <th>499997</th>\n",
       "      <td>scherzinicole aww thats so sweet i joined a wh...</td>\n",
       "    </tr>\n",
       "    <tr>\n",
       "      <th>499998</th>\n",
       "      <td>woke up kinda depressed and sad</td>\n",
       "    </tr>\n",
       "    <tr>\n",
       "      <th>499999</th>\n",
       "      <td>wish i had something to play my dads old clash...</td>\n",
       "    </tr>\n",
       "  </tbody>\n",
       "</table>\n",
       "<p>500000 rows × 1 columns</p>\n",
       "</div>"
      ],
      "text/plain": [
       "                                                     text\n",
       "0                                         brokenpromises \n",
       "1       david carradine  so sad thais law not sure if ...\n",
       "2             a  415 b  425 tell your bro i say congrats \n",
       "3                                 littlefluffycat  indeed\n",
       "4       completed race 4 life in 58mins with girlies f...\n",
       "...                                                   ...\n",
       "499995         skynews theyve finally managed to kill f1 \n",
       "499996  elvensapphire im brazilian so brazilian are an...\n",
       "499997  scherzinicole aww thats so sweet i joined a wh...\n",
       "499998                   woke up kinda depressed and sad \n",
       "499999  wish i had something to play my dads old clash...\n",
       "\n",
       "[500000 rows x 1 columns]"
      ]
     },
     "metadata": {
      "tags": []
     },
     "output_type": "display_data"
    }
   ],
   "source": [
    "def remove_special_characters(text, remove_digits=True):\n",
    "  pattern = r'[^a-zA-z0-9\\s]'\n",
    "  text = re.sub(pattern,'',text)\n",
    "  return text\n",
    "\n",
    "X['text'] = X['text'].apply(lambda x:''.join([i for i in x if i not in string.punctuation]))\n",
    "\n",
    "X['text'] = X['text'].apply(remove_special_characters)\n",
    "\n",
    "display(X)"
   ]
  },
  {
   "cell_type": "markdown",
   "metadata": {
    "id": "D8BPm_KMgF8o"
   },
   "source": [
    "### Tokenization."
   ]
  },
  {
   "cell_type": "code",
   "execution_count": 6,
   "metadata": {
    "colab": {
     "base_uri": "https://localhost:8080/",
     "height": 419
    },
    "executionInfo": {
     "elapsed": 26255,
     "status": "ok",
     "timestamp": 1606219371078,
     "user": {
      "displayName": "Σπύρος Μπριάκος",
      "photoUrl": "https://lh3.googleusercontent.com/a-/AOh14GjNL6_AeJ04NmNTaMqHmM_937BV9V7KYBr1Gkx9_g=s64",
      "userId": "14497433372697123826"
     },
     "user_tz": -120
    },
    "id": "Wbx5i_tOgIxm",
    "outputId": "898c976f-cf8d-4ea4-f9f3-b9c71f5990f9"
   },
   "outputs": [
    {
     "data": {
      "text/html": [
       "<div>\n",
       "<style scoped>\n",
       "    .dataframe tbody tr th:only-of-type {\n",
       "        vertical-align: middle;\n",
       "    }\n",
       "\n",
       "    .dataframe tbody tr th {\n",
       "        vertical-align: top;\n",
       "    }\n",
       "\n",
       "    .dataframe thead th {\n",
       "        text-align: right;\n",
       "    }\n",
       "</style>\n",
       "<table border=\"1\" class=\"dataframe\">\n",
       "  <thead>\n",
       "    <tr style=\"text-align: right;\">\n",
       "      <th></th>\n",
       "      <th>text</th>\n",
       "    </tr>\n",
       "  </thead>\n",
       "  <tbody>\n",
       "    <tr>\n",
       "      <th>0</th>\n",
       "      <td>[brokenpromises]</td>\n",
       "    </tr>\n",
       "    <tr>\n",
       "      <th>1</th>\n",
       "      <td>[david, carradine, so, sad, thais, law, not, s...</td>\n",
       "    </tr>\n",
       "    <tr>\n",
       "      <th>2</th>\n",
       "      <td>[tell, your, bro, say, congrats]</td>\n",
       "    </tr>\n",
       "    <tr>\n",
       "      <th>3</th>\n",
       "      <td>[littlefluffycat, indeed]</td>\n",
       "    </tr>\n",
       "    <tr>\n",
       "      <th>4</th>\n",
       "      <td>[completed, race, life, in, mins, with, girlie...</td>\n",
       "    </tr>\n",
       "    <tr>\n",
       "      <th>...</th>\n",
       "      <td>...</td>\n",
       "    </tr>\n",
       "    <tr>\n",
       "      <th>499995</th>\n",
       "      <td>[skynews, theyve, finally, managed, to, kill]</td>\n",
       "    </tr>\n",
       "    <tr>\n",
       "      <th>499996</th>\n",
       "      <td>[elvensapphire, im, brazilian, so, brazilian, ...</td>\n",
       "    </tr>\n",
       "    <tr>\n",
       "      <th>499997</th>\n",
       "      <td>[scherzinicole, aww, thats, so, sweet, joined,...</td>\n",
       "    </tr>\n",
       "    <tr>\n",
       "      <th>499998</th>\n",
       "      <td>[woke, up, kinda, depressed, and, sad]</td>\n",
       "    </tr>\n",
       "    <tr>\n",
       "      <th>499999</th>\n",
       "      <td>[wish, had, something, to, play, my, dads, old...</td>\n",
       "    </tr>\n",
       "  </tbody>\n",
       "</table>\n",
       "<p>500000 rows × 1 columns</p>\n",
       "</div>"
      ],
      "text/plain": [
       "                                                     text\n",
       "0                                        [brokenpromises]\n",
       "1       [david, carradine, so, sad, thais, law, not, s...\n",
       "2                        [tell, your, bro, say, congrats]\n",
       "3                               [littlefluffycat, indeed]\n",
       "4       [completed, race, life, in, mins, with, girlie...\n",
       "...                                                   ...\n",
       "499995      [skynews, theyve, finally, managed, to, kill]\n",
       "499996  [elvensapphire, im, brazilian, so, brazilian, ...\n",
       "499997  [scherzinicole, aww, thats, so, sweet, joined,...\n",
       "499998             [woke, up, kinda, depressed, and, sad]\n",
       "499999  [wish, had, something, to, play, my, dads, old...\n",
       "\n",
       "[500000 rows x 1 columns]"
      ]
     },
     "metadata": {
      "tags": []
     },
     "output_type": "display_data"
    }
   ],
   "source": [
    "X['text'] = [simple_preprocess(line, deacc=True) for line in X['text']] \n",
    "\n",
    "display(X)"
   ]
  },
  {
   "cell_type": "markdown",
   "metadata": {
    "id": "dpUh2I9Dp6pR"
   },
   "source": [
    "### Lemmatization."
   ]
  },
  {
   "cell_type": "code",
   "execution_count": 7,
   "metadata": {
    "colab": {
     "base_uri": "https://localhost:8080/",
     "height": 419
    },
    "executionInfo": {
     "elapsed": 51716,
     "status": "ok",
     "timestamp": 1606219396551,
     "user": {
      "displayName": "Σπύρος Μπριάκος",
      "photoUrl": "https://lh3.googleusercontent.com/a-/AOh14GjNL6_AeJ04NmNTaMqHmM_937BV9V7KYBr1Gkx9_g=s64",
      "userId": "14497433372697123826"
     },
     "user_tz": -120
    },
    "id": "dEOu5PyBqHXa",
    "outputId": "8f818096-1456-4cce-f256-0e3543fe3391"
   },
   "outputs": [
    {
     "data": {
      "text/html": [
       "<div>\n",
       "<style scoped>\n",
       "    .dataframe tbody tr th:only-of-type {\n",
       "        vertical-align: middle;\n",
       "    }\n",
       "\n",
       "    .dataframe tbody tr th {\n",
       "        vertical-align: top;\n",
       "    }\n",
       "\n",
       "    .dataframe thead th {\n",
       "        text-align: right;\n",
       "    }\n",
       "</style>\n",
       "<table border=\"1\" class=\"dataframe\">\n",
       "  <thead>\n",
       "    <tr style=\"text-align: right;\">\n",
       "      <th></th>\n",
       "      <th>text</th>\n",
       "    </tr>\n",
       "  </thead>\n",
       "  <tbody>\n",
       "    <tr>\n",
       "      <th>0</th>\n",
       "      <td>brokenpromises</td>\n",
       "    </tr>\n",
       "    <tr>\n",
       "      <th>1</th>\n",
       "      <td>david carradine so sad thais law not sure if i...</td>\n",
       "    </tr>\n",
       "    <tr>\n",
       "      <th>2</th>\n",
       "      <td>tell your bro say congrats</td>\n",
       "    </tr>\n",
       "    <tr>\n",
       "      <th>3</th>\n",
       "      <td>littlefluffycat indeed</td>\n",
       "    </tr>\n",
       "    <tr>\n",
       "      <th>4</th>\n",
       "      <td>complete race life in mins with girlies from w...</td>\n",
       "    </tr>\n",
       "    <tr>\n",
       "      <th>...</th>\n",
       "      <td>...</td>\n",
       "    </tr>\n",
       "    <tr>\n",
       "      <th>499995</th>\n",
       "      <td>skynews theyve finally manage to kill</td>\n",
       "    </tr>\n",
       "    <tr>\n",
       "      <th>499996</th>\n",
       "      <td>elvensapphire im brazilian so brazilian be any...</td>\n",
       "    </tr>\n",
       "    <tr>\n",
       "      <th>499997</th>\n",
       "      <td>scherzinicole aww thats so sweet join while ag...</td>\n",
       "    </tr>\n",
       "    <tr>\n",
       "      <th>499998</th>\n",
       "      <td>wake up kinda depress and sad</td>\n",
       "    </tr>\n",
       "    <tr>\n",
       "      <th>499999</th>\n",
       "      <td>wish have something to play my dads old clash ...</td>\n",
       "    </tr>\n",
       "  </tbody>\n",
       "</table>\n",
       "<p>500000 rows × 1 columns</p>\n",
       "</div>"
      ],
      "text/plain": [
       "                                                     text\n",
       "0                                          brokenpromises\n",
       "1       david carradine so sad thais law not sure if i...\n",
       "2                              tell your bro say congrats\n",
       "3                                  littlefluffycat indeed\n",
       "4       complete race life in mins with girlies from w...\n",
       "...                                                   ...\n",
       "499995              skynews theyve finally manage to kill\n",
       "499996  elvensapphire im brazilian so brazilian be any...\n",
       "499997  scherzinicole aww thats so sweet join while ag...\n",
       "499998                      wake up kinda depress and sad\n",
       "499999  wish have something to play my dads old clash ...\n",
       "\n",
       "[500000 rows x 1 columns]"
      ]
     },
     "metadata": {
      "tags": []
     },
     "output_type": "display_data"
    }
   ],
   "source": [
    "lemmatizer = nltk.stem.WordNetLemmatizer()\n",
    "\n",
    "def lemmatize_text(text):\n",
    "    return \" \".join([lemmatizer.lemmatize(w, pos=\"v\") for w in text])\n",
    "\n",
    "X['text'] = X['text'].apply(lemmatize_text)\n",
    "\n",
    "display(X)"
   ]
  },
  {
   "cell_type": "markdown",
   "metadata": {
    "id": "cqhlchE5YYd3"
   },
   "source": [
    "### Split dataset to train,validation and test dataset.\n"
   ]
  },
  {
   "cell_type": "code",
   "execution_count": 8,
   "metadata": {
    "colab": {
     "base_uri": "https://localhost:8080/"
    },
    "executionInfo": {
     "elapsed": 51708,
     "status": "ok",
     "timestamp": 1606219396553,
     "user": {
      "displayName": "Σπύρος Μπριάκος",
      "photoUrl": "https://lh3.googleusercontent.com/a-/AOh14GjNL6_AeJ04NmNTaMqHmM_937BV9V7KYBr1Gkx9_g=s64",
      "userId": "14497433372697123826"
     },
     "user_tz": -120
    },
    "id": "niug5R0UYbgX",
    "outputId": "45ff6d80-85ea-42f0-a4cd-1e2bb16336ad"
   },
   "outputs": [
    {
     "name": "stdout",
     "output_type": "stream",
     "text": [
      "X_train's shape: (495012,)\n",
      "Y_train's shape: (495012,)\n",
      "X_val's shape: (2488,)\n",
      "Y_val's shape: (2488,)\n",
      "X_test's shape: (2500,)\n",
      "Y_test's shape: (2500,)\n"
     ]
    }
   ],
   "source": [
    "# Split dataset to train and test set.\n",
    "X_train, X_test, Y_train, Y_test = train_test_split(X['text'],Y['target'],test_size=0.005)\n",
    "\n",
    "# Split train dataset to train and validation set.\n",
    "X_train, X_val, Y_train, Y_val = train_test_split(X_train, Y_train, test_size=0.005)\n",
    "\n",
    "print(\"X_train's shape:\", X_train.shape)\n",
    "print(\"Y_train's shape:\", Y_train.shape)\n",
    "print(\"X_val's shape:\", X_val.shape)\n",
    "print(\"Y_val's shape:\", Y_val.shape)\n",
    "print(\"X_test's shape:\", X_test.shape)\n",
    "print(\"Y_test's shape:\", Y_test.shape)"
   ]
  },
  {
   "cell_type": "markdown",
   "metadata": {
    "id": "Vf4TdSbiHs8u"
   },
   "source": [
    ">We choosed to split dataset 99%-1% (train and test set), cause our dataset is too large. \n"
   ]
  },
  {
   "cell_type": "markdown",
   "metadata": {
    "id": "eM84BI745EJ9"
   },
   "source": [
    "## Vectorization."
   ]
  },
  {
   "cell_type": "markdown",
   "metadata": {
    "id": "spfdz3VXQNeu"
   },
   "source": [
    "### TfIdf Vectorization."
   ]
  },
  {
   "cell_type": "code",
   "execution_count": 9,
   "metadata": {
    "colab": {
     "base_uri": "https://localhost:8080/"
    },
    "executionInfo": {
     "elapsed": 61039,
     "status": "ok",
     "timestamp": 1606219405893,
     "user": {
      "displayName": "Σπύρος Μπριάκος",
      "photoUrl": "https://lh3.googleusercontent.com/a-/AOh14GjNL6_AeJ04NmNTaMqHmM_937BV9V7KYBr1Gkx9_g=s64",
      "userId": "14497433372697123826"
     },
     "user_tz": -120
    },
    "id": "bn9QwUGcQOM6",
    "outputId": "dd6eb991-67fa-487b-ea29-283783f42b05"
   },
   "outputs": [
    {
     "name": "stdout",
     "output_type": "stream",
     "text": [
      "tfidf_X_train's shape: (495012, 1000)\n",
      "tfidf_X_val's shape: (2488, 1000)\n",
      "tfidf_X_test's shape: (2500, 1000)\n"
     ]
    }
   ],
   "source": [
    "# Vectorize our train corpus with TfIdf Vectorizer.\n",
    "tfidf = TfidfVectorizer(max_features=1000,dtype=np.float32)\n",
    "\n",
    "# For train data apply fit_transform.\n",
    "tfidf_X_train = tfidf.fit_transform(X_train)\n",
    "tfidf_X_train = tfidf_X_train.toarray()\n",
    "\n",
    "# For validation data apply transform.\n",
    "tfidf_X_val = tfidf.transform(X_val)\n",
    "tfidf_X_val = tfidf_X_val.toarray()\n",
    "\n",
    "# For test data apply transform.\n",
    "tfidf_X_test = tfidf.transform(X_test)\n",
    "tfidf_X_test = tfidf_X_test.toarray()\n",
    "\n",
    "print(\"tfidf_X_train's shape:\", tfidf_X_train.shape)\n",
    "print(\"tfidf_X_val's shape:\", tfidf_X_val.shape)\n",
    "print(\"tfidf_X_test's shape:\", tfidf_X_test.shape)"
   ]
  },
  {
   "cell_type": "markdown",
   "metadata": {
    "id": "e4expvofZvMF"
   },
   "source": [
    "#### Convert tfidf_X datasets to tensors with help of library PyTorch.\n",
    "\n",
    "\n",
    "\n",
    "\n",
    "\n"
   ]
  },
  {
   "cell_type": "code",
   "execution_count": 10,
   "metadata": {
    "colab": {
     "base_uri": "https://localhost:8080/"
    },
    "executionInfo": {
     "elapsed": 62277,
     "status": "ok",
     "timestamp": 1606219407139,
     "user": {
      "displayName": "Σπύρος Μπριάκος",
      "photoUrl": "https://lh3.googleusercontent.com/a-/AOh14GjNL6_AeJ04NmNTaMqHmM_937BV9V7KYBr1Gkx9_g=s64",
      "userId": "14497433372697123826"
     },
     "user_tz": -120
    },
    "id": "ChbWNfpxZzoZ",
    "outputId": "915712a7-3cea-4c84-d75b-661a14f5654d"
   },
   "outputs": [
    {
     "name": "stdout",
     "output_type": "stream",
     "text": [
      "X_train's shape: torch.Size([495012, 1000])\n",
      "X_val's shape: torch.Size([2488, 1000])\n",
      "X_test's shape: torch.Size([2500, 1000])\n"
     ]
    }
   ],
   "source": [
    "# Convert X datasets to tensors with function convert_to_tensor.\n",
    "tfidf_X_train = torch.tensor(tfidf_X_train)\n",
    "tfidf_X_val = torch.tensor(tfidf_X_val)\n",
    "tfidf_X_test = torch.tensor(tfidf_X_test)\n",
    "\n",
    "print(\"X_train's shape:\", tfidf_X_train.shape)\n",
    "print(\"X_val's shape:\", tfidf_X_val.shape)\n",
    "print(\"X_test's shape:\", tfidf_X_test.shape)"
   ]
  },
  {
   "cell_type": "markdown",
   "metadata": {
    "id": "HnfDAz8hUhTk"
   },
   "source": [
    "\n",
    "### Convert Y datasets (labels) to tensors with help of library PyTorch."
   ]
  },
  {
   "cell_type": "code",
   "execution_count": 11,
   "metadata": {
    "colab": {
     "base_uri": "https://localhost:8080/"
    },
    "executionInfo": {
     "elapsed": 62270,
     "status": "ok",
     "timestamp": 1606219407140,
     "user": {
      "displayName": "Σπύρος Μπριάκος",
      "photoUrl": "https://lh3.googleusercontent.com/a-/AOh14GjNL6_AeJ04NmNTaMqHmM_937BV9V7KYBr1Gkx9_g=s64",
      "userId": "14497433372697123826"
     },
     "user_tz": -120
    },
    "id": "TR60G59AUoHm",
    "outputId": "9c7b4703-a758-4a78-8692-6a0fdfefa483"
   },
   "outputs": [
    {
     "name": "stdout",
     "output_type": "stream",
     "text": [
      "Y_train's shape: torch.Size([495012])\n",
      "Y_val's shape: torch.Size([2488])\n",
      "Y_test's shape: torch.Size([2500])\n"
     ]
    }
   ],
   "source": [
    "# Convert Y labels to tensors with torch.squeeze.\n",
    "Y_train = torch.squeeze(torch.from_numpy(Y_train.to_numpy()).float())\n",
    "Y_val = torch.squeeze(torch.from_numpy(Y_val.to_numpy()).float())\n",
    "Y_test = torch.squeeze(torch.from_numpy(Y_test.to_numpy()).float())\n",
    "\n",
    "print(\"Y_train's shape:\", Y_train.shape)\n",
    "print(\"Y_val's shape:\", Y_val.shape)\n",
    "print(\"Y_test's shape:\", Y_test.shape)"
   ]
  },
  {
   "cell_type": "markdown",
   "metadata": {
    "id": "o1kUZYmDk0uJ"
   },
   "source": [
    "## Prepare GPU Cuda."
   ]
  },
  {
   "cell_type": "markdown",
   "metadata": {
    "id": "7tkj1bw37JCS"
   },
   "source": [
    "### Initial step with PyTorch, check if gpu cuda is available."
   ]
  },
  {
   "cell_type": "code",
   "execution_count": 12,
   "metadata": {
    "colab": {
     "base_uri": "https://localhost:8080/"
    },
    "executionInfo": {
     "elapsed": 62262,
     "status": "ok",
     "timestamp": 1606219407141,
     "user": {
      "displayName": "Σπύρος Μπριάκος",
      "photoUrl": "https://lh3.googleusercontent.com/a-/AOh14GjNL6_AeJ04NmNTaMqHmM_937BV9V7KYBr1Gkx9_g=s64",
      "userId": "14497433372697123826"
     },
     "user_tz": -120
    },
    "id": "32nx5KUx7LVb",
    "outputId": "a9159b91-264d-425e-e901-fbc122df23a2"
   },
   "outputs": [
    {
     "name": "stdout",
     "output_type": "stream",
     "text": [
      "Device available for running: \n",
      "cuda\n"
     ]
    }
   ],
   "source": [
    "device = torch.device(\"cuda\" if torch.cuda.is_available() else \"cpu\")\n",
    "print(\"Device available for running: \")\n",
    "print(device)"
   ]
  },
  {
   "cell_type": "markdown",
   "metadata": {
    "id": "uMP6YyvF8zhl"
   },
   "source": [
    "### Transfer all the computation to GPU (cuda device).\n"
   ]
  },
  {
   "cell_type": "code",
   "execution_count": 13,
   "metadata": {
    "executionInfo": {
     "elapsed": 64173,
     "status": "ok",
     "timestamp": 1606219409058,
     "user": {
      "displayName": "Σπύρος Μπριάκος",
      "photoUrl": "https://lh3.googleusercontent.com/a-/AOh14GjNL6_AeJ04NmNTaMqHmM_937BV9V7KYBr1Gkx9_g=s64",
      "userId": "14497433372697123826"
     },
     "user_tz": -120
    },
    "id": "n-hrLrYfUqby"
   },
   "outputs": [],
   "source": [
    "tfidf_X_train = tfidf_X_train.to(device)\n",
    "tfidf_X_val = tfidf_X_val.to(device)\n",
    "tfidf_X_test = tfidf_X_test.to(device)\n",
    "\n",
    "Y_train = Y_train.to(device)\n",
    "Y_val = Y_val.to(device)\n",
    "Y_test = Y_test.to(device)"
   ]
  },
  {
   "cell_type": "markdown",
   "metadata": {
    "id": "eA52FzR_KkKJ"
   },
   "source": [
    "## Implementation of function, which is gonna train our models."
   ]
  },
  {
   "cell_type": "code",
   "execution_count": 14,
   "metadata": {
    "executionInfo": {
     "elapsed": 64169,
     "status": "ok",
     "timestamp": 1606219409061,
     "user": {
      "displayName": "Σπύρος Μπριάκος",
      "photoUrl": "https://lh3.googleusercontent.com/a-/AOh14GjNL6_AeJ04NmNTaMqHmM_937BV9V7KYBr1Gkx9_g=s64",
      "userId": "14497433372697123826"
     },
     "user_tz": -120
    },
    "id": "3MQcX78DKuLi"
   },
   "outputs": [],
   "source": [
    "def calculate_accuracy(y_true, y_pred):  \n",
    "  y_pred = torch.round(y_pred)\n",
    "  correct = (y_true == y_pred).float() \n",
    "  acc = correct.sum() / len(correct)\n",
    "  return acc\n",
    "\n",
    "def train_model(model,criterion,optimizer,x_train,x_val,y_train,y_val,epochs=100,batch_size=10000):\n",
    "\n",
    "  # Declare empty lists.\n",
    "  train_losses = []\n",
    "  train_accs = []\n",
    "  val_losses = []\n",
    "  val_accs = []\n",
    "\n",
    "  # Split train dataset to mini batches\n",
    "  X_train_mini_batches = torch.split(x_train,batch_size)\n",
    "  Y_train_mini_batches = torch.split(y_train,batch_size)\n",
    "\n",
    "  # Start training\n",
    "  for epoch in range(epochs):\n",
    "\n",
    "    # Clear previous values of variables.\n",
    "    epoch_loss = 0\n",
    "    epoch_acc = 0\n",
    "    validation_loss=0\n",
    "    val_acc=0\n",
    "\n",
    "    for X_train_mini_batch,Y_train_mini_batch in zip(X_train_mini_batches,Y_train_mini_batches):\n",
    "      \n",
    "      # Forward pass to get output.\n",
    "      train_pred = model.fit(X_train_mini_batch.float())\n",
    "      train_pred = torch.squeeze(train_pred)\n",
    "\n",
    "      # Calculate Loss.\n",
    "      train_loss = criterion(train_pred,Y_train_mini_batch)\n",
    "\n",
    "      # Clearing up accumulated gradients.\n",
    "      optimizer.zero_grad()\n",
    "      \n",
    "      # Getting gradients w.r.t. parameters.\n",
    "      train_loss.backward()\n",
    "\n",
    "      # Updating parameters.\n",
    "      optimizer.step()\n",
    "\n",
    "      # Add each mini batch's loss.\n",
    "      epoch_loss += train_loss.item()\n",
    "\n",
    "      # Add each mini batch's accuracy.\n",
    "      epoch_acc += calculate_accuracy(Y_train_mini_batch,train_pred)\n",
    "\n",
    "      \n",
    "    # For each epoch test our model on validation set.\n",
    "    val_pred = model.fit(x_val.float())\n",
    "    val_pred = torch.squeeze(val_pred)\n",
    "      \n",
    "    # Calculate Loss\n",
    "    val_loss = criterion(val_pred,y_val) \n",
    "\n",
    "    # Calculate val's loss\n",
    "    validation_loss = val_loss.item()\n",
    "\n",
    "    # Calculate val's accuracy\n",
    "    val_acc = calculate_accuracy(y_val,val_pred)\n",
    "\n",
    "    # Calculate mean loss and mean accuracy for train data.\n",
    "    epoch_loss /= len(X_train_mini_batches)\n",
    "    epoch_acc /= len(X_train_mini_batches)\n",
    "    \n",
    "    # Add them to appropriate lists so as to return them.\n",
    "    val_losses.append(validation_loss)\n",
    "    val_accs.append(val_acc)\n",
    "    train_losses.append(epoch_loss)\n",
    "    train_accs.append(epoch_acc)\n",
    "\n",
    "  return train_losses,val_losses,train_accs,val_accs"
   ]
  },
  {
   "cell_type": "markdown",
   "metadata": {
    "id": "3T3lTjMTVae_"
   },
   "source": [
    "## First Neural Network Model."
   ]
  },
  {
   "cell_type": "markdown",
   "metadata": {
    "id": "9hUutlkF0pfk"
   },
   "source": [
    "### Implementation of class FirstModel, which is our first Neural Network."
   ]
  },
  {
   "cell_type": "code",
   "execution_count": 15,
   "metadata": {
    "executionInfo": {
     "elapsed": 64165,
     "status": "ok",
     "timestamp": 1606219409062,
     "user": {
      "displayName": "Σπύρος Μπριάκος",
      "photoUrl": "https://lh3.googleusercontent.com/a-/AOh14GjNL6_AeJ04NmNTaMqHmM_937BV9V7KYBr1Gkx9_g=s64",
      "userId": "14497433372697123826"
     },
     "user_tz": -120
    },
    "id": "FFEnY2iQMXHg"
   },
   "outputs": [],
   "source": [
    "class FirstModel(nn.Module):\n",
    "    \n",
    "  def __init__(self, input_dim, hidden_dim1,hidden_dim2):\n",
    "    super(FirstModel, self).__init__()\n",
    "    \n",
    "    self.relu = nn.ReLU()\n",
    "    self.layer1 = nn.Linear(input_dim, hidden_dim1) \n",
    "    self.layer2 = nn.Linear(hidden_dim1, hidden_dim2)\n",
    "    self.layer3 = nn.Linear(hidden_dim2, 1)  \n",
    "    \n",
    "  def fit(self, x):\n",
    "    \n",
    "    # Layer 1\n",
    "    out = self.relu(self.layer1(x))\n",
    " \n",
    "    # Layer 2\n",
    "    out = self.relu(self.layer2(out))\n",
    "\n",
    "    # Layer 3    \n",
    "    out = torch.sigmoid(self.layer3(out))\n",
    "\n",
    "    return out \n",
    "\n",
    "  def evaluate(self,x_test,y_test,report=False):\n",
    "  \n",
    "    # Forward pass to get predictions.\n",
    "    test_pred = self.fit(x_test.float())\n",
    "    test_pred = torch.squeeze(test_pred)\n",
    "    \n",
    "    # Score by manually implemented calculate accuracy\n",
    "    test_acc = round(calculate_accuracy(y_test,test_pred).item(),2)\n",
    "\n",
    "    # Classification report\n",
    "    if report==True:\n",
    "      test_pred = test_pred.ge(.5).view(-1).cpu()\n",
    "      y_test = y_test.cpu()\n",
    "      print(classification_report(y_test,test_pred))\n",
    "\n",
    "    return test_acc"
   ]
  },
  {
   "cell_type": "markdown",
   "metadata": {
    "id": "9c918KHdm5oY"
   },
   "source": [
    "### Prepare our first non deep feed forward neural network model."
   ]
  },
  {
   "cell_type": "code",
   "execution_count": 33,
   "metadata": {
    "executionInfo": {
     "elapsed": 1104,
     "status": "ok",
     "timestamp": 1606219701627,
     "user": {
      "displayName": "Σπύρος Μπριάκος",
      "photoUrl": "https://lh3.googleusercontent.com/a-/AOh14GjNL6_AeJ04NmNTaMqHmM_937BV9V7KYBr1Gkx9_g=s64",
      "userId": "14497433372697123826"
     },
     "user_tz": -120
    },
    "id": "5TL4BrX1o0tj"
   },
   "outputs": [],
   "source": [
    "input_units = tfidf_X_train.shape[1]\n",
    "hidden_units1 = 128\n",
    "hidden_units2 = 128\n",
    "learning_rate = 1e-4\n",
    "w_decay = 1e-4\n",
    "\n",
    "# Define our first feed forward neural network with different input datasets (tfidf and glove vectorized).\n",
    "tfidf_first_model = FirstModel(input_units,hidden_units1,hidden_units2)\n",
    "\n",
    "# Define loss function.\n",
    "criterion = nn.BCELoss()\n",
    "\n",
    "# Define as optimizer Adam.\n",
    "optimizer = optim.Adam(tfidf_first_model.parameters(),lr=learning_rate,weight_decay=w_decay)\n",
    "\n",
    "# Transfer all the computation to GPU (cuda device).\n",
    "tfidf_first_model.to(device)\n",
    "criterion = criterion.to(device)"
   ]
  },
  {
   "cell_type": "markdown",
   "metadata": {
    "id": "UQEi0Vp5K7vH"
   },
   "source": [
    "### Train our first model with TfIdf vectorized input."
   ]
  },
  {
   "cell_type": "code",
   "execution_count": 34,
   "metadata": {
    "executionInfo": {
     "elapsed": 30426,
     "status": "ok",
     "timestamp": 1606219730963,
     "user": {
      "displayName": "Σπύρος Μπριάκος",
      "photoUrl": "https://lh3.googleusercontent.com/a-/AOh14GjNL6_AeJ04NmNTaMqHmM_937BV9V7KYBr1Gkx9_g=s64",
      "userId": "14497433372697123826"
     },
     "user_tz": -120
    },
    "id": "SSPM4nJLK_yQ"
   },
   "outputs": [],
   "source": [
    "# Call train_model with appropriate args and store into lists losses and accuracies.\n",
    "tfidf_train_losses,tfidf_val_losses,tfidf_train_accs,tfidf_val_accs = train_model(tfidf_first_model,criterion,optimizer,tfidf_X_train,tfidf_X_val,Y_train,Y_val,epochs=100,batch_size=10000)"
   ]
  },
  {
   "cell_type": "markdown",
   "metadata": {
    "id": "qW8eSO8f9kto"
   },
   "source": [
    "### Let's check what happened in training on first TfIdf model.\n"
   ]
  },
  {
   "cell_type": "code",
   "execution_count": 38,
   "metadata": {
    "colab": {
     "base_uri": "https://localhost:8080/",
     "height": 639
    },
    "executionInfo": {
     "elapsed": 2545,
     "status": "ok",
     "timestamp": 1606219774220,
     "user": {
      "displayName": "Σπύρος Μπριάκος",
      "photoUrl": "https://lh3.googleusercontent.com/a-/AOh14GjNL6_AeJ04NmNTaMqHmM_937BV9V7KYBr1Gkx9_g=s64",
      "userId": "14497433372697123826"
     },
     "user_tz": -120
    },
    "id": "jixE_nRx9j-H",
    "outputId": "5e11f9ad-b282-48a1-980b-0a3e5c3c860f"
   },
   "outputs": [
    {
     "data": {
      "image/png": "[encoded data removed]",
      "text/plain": [
       "<Figure size 2160x720 with 2 Axes>"
      ]
     },
     "metadata": {
      "needs_background": "light",
      "tags": []
     },
     "output_type": "display_data"
    }
   ],
   "source": [
    "fig,axs = plt.subplots(1,2,figsize=(30,10))\n",
    "\n",
    "early_stopping = 90\n",
    "\n",
    "# Plot Train and Validation Losses with TfIdf vectorization.\n",
    "axs[0].set_title(\"Train and Validation Losses (TfIdf)\",size=25)\n",
    "axs[0].set_ylabel('Loss', fontsize = 20.0) \n",
    "axs[0].set_xlabel('Epochs', fontsize = 20) \n",
    "_=axs[0].plot(tfidf_train_losses,'-c')\n",
    "_=axs[0].plot(tfidf_val_losses,'-m')\n",
    "_=axs[0].axvline(x=early_stopping,color='r')\n",
    "_=axs[0].legend(('Train','Val'),loc='upper right',fontsize='x-large')\n",
    "\n",
    "# Plot Train and Validation Accuracies with TfIdf vectorization.\n",
    "axs[1].set_title(\"Train and Validation Accuracies (TfIdf)\",size=25)\n",
    "axs[1].set_ylabel('Accuracy', fontsize = 20.0) \n",
    "axs[1].set_xlabel('Epochs', fontsize = 20) \n",
    "_=axs[1].plot(tfidf_train_accs,'-c')\n",
    "_=axs[1].plot(tfidf_val_accs,'-m')\n",
    "_=axs[1].axvline(x=early_stopping,color='r')\n",
    "_=axs[1].legend(('Train','Val'),loc='best',fontsize='x-large')"
   ]
  },
  {
   "cell_type": "markdown",
   "metadata": {
    "id": "BBja8d5f7eUa"
   },
   "source": [
    "### Evaluation of our first TfIdf model with classification report and with manually implemented calculate_accuracy() function."
   ]
  },
  {
   "cell_type": "code",
   "execution_count": 52,
   "metadata": {
    "colab": {
     "base_uri": "https://localhost:8080/"
    },
    "executionInfo": {
     "elapsed": 1286,
     "status": "ok",
     "timestamp": 1606222991672,
     "user": {
      "displayName": "Σπύρος Μπριάκος",
      "photoUrl": "https://lh3.googleusercontent.com/a-/AOh14GjNL6_AeJ04NmNTaMqHmM_937BV9V7KYBr1Gkx9_g=s64",
      "userId": "14497433372697123826"
     },
     "user_tz": -120
    },
    "id": "p7qsF2m87hdk",
    "outputId": "6812eea1-3acb-454b-c184-2b4f5bbf0877"
   },
   "outputs": [
    {
     "name": "stdout",
     "output_type": "stream",
     "text": [
      "              precision    recall  f1-score   support\n",
      "\n",
      "         0.0       0.77      0.79      0.78      1228\n",
      "         1.0       0.79      0.77      0.78      1272\n",
      "\n",
      "    accuracy                           0.78      2500\n",
      "   macro avg       0.78      0.78      0.78      2500\n",
      "weighted avg       0.78      0.78      0.78      2500\n",
      "\n",
      "First TfIdf Model Test's Accuracy: 0.78\n"
     ]
    }
   ],
   "source": [
    "print(\"First TfIdf Model Test's Accuracy:\",tfidf_first_model.evaluate(tfidf_X_test,Y_test,True))"
   ]
  },
  {
   "cell_type": "markdown",
   "metadata": {
    "id": "hhwuIQIp3J9v"
   },
   "source": [
    "### General Notes about our first TfIdf NN model."
   ]
  },
  {
   "cell_type": "markdown",
   "metadata": {
    "id": "3PJgFb9czsD8"
   },
   "source": [
    "> Our Neural Network Model has the above structure:\n",
    "\n",
    "> input dimensions (Relu) -> 128 (Relu) -> 128 (Sigmoid) -> 1\n",
    "\n",
    "> For input of NN we vectorized our tweets with help of TfIdf Vectorizer from sklearn, but we had to keep only 1000 features with biggest values of TfIdf, due to memory limit. In that way we could load only the first half million rows of our dataset."
   ]
  },
  {
   "cell_type": "markdown",
   "metadata": {
    "id": "fQrx6Xwq3SfM"
   },
   "source": [
    "### Experiment's Conclusions."
   ]
  },
  {
   "cell_type": "markdown",
   "metadata": {
    "id": "-irJWG3K3ZRn"
   },
   "source": [
    "> After many experiments with our model we observe that in order to avoid overfitting we had to choose a simplier model architecture, so we tried non deep NN model with 2 hidden layers. \n",
    "\n",
    "> After studying and reading in articles and books with topic 'Machine Learning' and 'Deep Learning', out there everybody for binary classification problems recommends as criterion Binary Cross Entropy Loss and as optimizer with descent performance Adam. I can confirm these thoughts cause other criterions and optimizers didn't perform well.\n",
    "\n",
    "> After that we randomly found the appropriate learning rate, which is the most significant parameter, so as to have a good fit. \n",
    "\n",
    "> The weight decay parameter adds a L2 penalty to the cost which can effectively lead to to smaller model weights. This helped us a lot with tackling overfitting.\n",
    "\n",
    "> We set batch size to default 10.000, cause we have a huge dataset so as to run our model much faster.\n",
    "\n",
    "> We experimented a lot with number of hidden units and finally ended up to 128 and 128 respectively. We prefer hidden units to be 2^k in order to help memory management of our computer.\n",
    "\n",
    "\n"
   ]
  },
  {
   "cell_type": "markdown",
   "metadata": {
    "id": "IcHxhSEWkFmN"
   },
   "source": [
    "### Plot ROC-Curve for our best model!"
   ]
  },
  {
   "cell_type": "code",
   "execution_count": 37,
   "metadata": {
    "colab": {
     "base_uri": "https://localhost:8080/",
     "height": 520
    },
    "executionInfo": {
     "elapsed": 31414,
     "status": "ok",
     "timestamp": 1606219731973,
     "user": {
      "displayName": "Σπύρος Μπριάκος",
      "photoUrl": "https://lh3.googleusercontent.com/a-/AOh14GjNL6_AeJ04NmNTaMqHmM_937BV9V7KYBr1Gkx9_g=s64",
      "userId": "14497433372697123826"
     },
     "user_tz": -120
    },
    "id": "wfrhLRlPkCJw",
    "outputId": "3390efb6-fafe-4415-e4e2-2ba6e6c7606a"
   },
   "outputs": [
    {
     "data": {
      "image/png": "[encoded data removed]",
      "text/plain": [
       "<Figure size 576x576 with 1 Axes>"
      ]
     },
     "metadata": {
      "needs_background": "light",
      "tags": []
     },
     "output_type": "display_data"
    }
   ],
   "source": [
    "# Get predictions of our best NN model.\n",
    "y_score = tfidf_first_model.fit(tfidf_X_test.float())\n",
    "\n",
    "# Convert tensors to numpy arrays.\n",
    "y_score = y_score.cpu().detach().numpy()\n",
    "y = Y_test.cpu().detach().numpy()\n",
    "\n",
    "# Label binarization and store num of classes.\n",
    "y_test = label_binarize(y, classes=[0, 1])\n",
    "n_classes = y_test.shape[1]\n",
    "\n",
    "# Compute ROC curve and ROC area for each class\n",
    "fpr = dict()\n",
    "tpr = dict()\n",
    "roc_auc = dict()\n",
    "for i in range(n_classes):\n",
    "    fpr[i], tpr[i], _ = roc_curve(y_test[:,i], y_score[:,i])\n",
    "    roc_auc[i] = auc(fpr[i], tpr[i])\n",
    "\n",
    "plt.figure(figsize=(8,8))\n",
    "lw = 2\n",
    "plt.plot(fpr[0], tpr[0], color='darkorange',lw=lw, label='ROC curve (area = %0.2f)' % roc_auc[0])\n",
    "plt.plot([0, 1], [0, 1], color='navy', lw=lw, linestyle='--')\n",
    "plt.xlim([0.0, 1.0])\n",
    "plt.ylim([0.0, 1.05])\n",
    "plt.xlabel('False Positive Rate',fontsize=15)\n",
    "plt.ylabel('True Positive Rate',fontsize=15)\n",
    "plt.title('Receiver operating characteristic example',fontsize=15)\n",
    "plt.legend(loc=\"lower right\",fontsize=15)\n",
    "plt.show()"
   ]
  },
  {
   "cell_type": "markdown",
   "metadata": {
    "id": "-H-2ELOO_BL0"
   },
   "source": [
    "### Extra Results."
   ]
  },
  {
   "cell_type": "markdown",
   "metadata": {
    "id": "8ygwsK_-_J7B"
   },
   "source": [
    "> Until now out first non deep (TfIdf Vectorized) Neural Network Model is the best with 0.78 score compared to our non deep (GloVe Vectorized) Neural Network Model which has 0.70 score! This difference was expected, due to the fact that TfIdf model keeps much more information compared to GloVe model (to be more specific each tweet has dimensions 1000 and 50 respectively). However both of them were pretty descent as models since they had a good fit (observed from learning curves).\n",
    "\n",
    "> From the theory we taught that a deep Neural Network Model (with a lot of hidden layers and hidden units) is more possible to give us greater scores. So let's give it a last shot and see if we have a new winner!"
   ]
  },
  {
   "cell_type": "markdown",
   "metadata": {
    "id": "fqBnwB4mwg2I"
   },
   "source": [
    "## Second Neural Network Model."
   ]
  },
  {
   "cell_type": "markdown",
   "metadata": {
    "id": "4H67dU5Twg2I"
   },
   "source": [
    "### Implementation of class SecondModel, which is our second Neural Network."
   ]
  },
  {
   "cell_type": "code",
   "execution_count": 39,
   "metadata": {
    "executionInfo": {
     "elapsed": 1066,
     "status": "ok",
     "timestamp": 1606220060986,
     "user": {
      "displayName": "Σπύρος Μπριάκος",
      "photoUrl": "https://lh3.googleusercontent.com/a-/AOh14GjNL6_AeJ04NmNTaMqHmM_937BV9V7KYBr1Gkx9_g=s64",
      "userId": "14497433372697123826"
     },
     "user_tz": -120
    },
    "id": "JkZFsUH-wg2I"
   },
   "outputs": [],
   "source": [
    "class SecondModel(nn.Module):\n",
    "    \n",
    "  def __init__(self,input_dim,hidden_dim1):\n",
    "    super(SecondModel, self).__init__()\n",
    "    \n",
    "    self.relu = nn.ReLU()\n",
    "\n",
    "    self.layer1 = nn.Linear(input_dim,hidden_dim1) \n",
    "    self.layer2 = nn.Linear(hidden_dim1,hidden_dim1)\n",
    "    self.layer3 = nn.Linear(hidden_dim1,hidden_dim1)\n",
    "    self.layer4 = nn.Linear(hidden_dim1,hidden_dim1)\n",
    "    self.layer5 = nn.Linear(hidden_dim1,hidden_dim1)\n",
    "    self.layer6 = nn.Linear(hidden_dim1,1)\n",
    "\n",
    "  def fit(self, x):\n",
    "\n",
    "    # Layer 1\n",
    "    out = self.relu(self.layer1(x))\n",
    "    # Layer 2\n",
    "    out = self.relu(self.layer2(out))\n",
    "    # Layer 3\n",
    "    out = self.relu(self.layer3(out))\n",
    "    # Layer 4\n",
    "    out = self.relu(self.layer4(out))\n",
    "    # Layer 5\n",
    "    out = self.relu(self.layer5(out))\n",
    "    # Layer 6\n",
    "    out = torch.sigmoid(self.layer6(out))\n",
    "    \n",
    "    return out \n",
    "\n",
    "  def evaluate(self,X_test,Y_test,report=False):\n",
    "  \n",
    "    # Forward pass to get predictions.\n",
    "    test_pred = self.fit(X_test.float())\n",
    "    test_pred = torch.squeeze(test_pred)\n",
    "    \n",
    "    # Score by manually implemented calculate accuracy\n",
    "    test_acc = round(calculate_accuracy(Y_test,test_pred).item(),2)\n",
    "\n",
    "    # Classification report\n",
    "    if report==True:\n",
    "      test_pred = test_pred.ge(.5).view(-1).cpu()\n",
    "      Y_test = Y_test.cpu()\n",
    "      print(classification_report(Y_test,test_pred))\n",
    "\n",
    "    return test_acc"
   ]
  },
  {
   "cell_type": "markdown",
   "metadata": {
    "id": "MuU6_qQCwg2J"
   },
   "source": [
    "### Prepare our second deep feed forward neural network model."
   ]
  },
  {
   "cell_type": "code",
   "execution_count": 45,
   "metadata": {
    "executionInfo": {
     "elapsed": 1071,
     "status": "ok",
     "timestamp": 1606221397919,
     "user": {
      "displayName": "Σπύρος Μπριάκος",
      "photoUrl": "https://lh3.googleusercontent.com/a-/AOh14GjNL6_AeJ04NmNTaMqHmM_937BV9V7KYBr1Gkx9_g=s64",
      "userId": "14497433372697123826"
     },
     "user_tz": -120
    },
    "id": "v3gv4Na4wg2J"
   },
   "outputs": [],
   "source": [
    "input_units = tfidf_X_train.shape[1]\n",
    "hidden_units = 128\n",
    "learning_rate = 1e-4\n",
    "w_decay = 1e-4\n",
    "\n",
    "# Define our second feed forward neural network (tfidf vectorized).\n",
    "tfidf_second_model = SecondModel(input_units,hidden_units)\n",
    "\n",
    "# Define loss function.\n",
    "criterion = nn.BCELoss()\n",
    "\n",
    "# Define as optimizer Adam.\n",
    "optimizer = optim.Adam(tfidf_second_model.parameters(),lr=learning_rate,weight_decay=w_decay)\n",
    "\n",
    "# Transfer all the computation to GPU (cuda device).\n",
    "tfidf_second_model.to(device)\n",
    "criterion = criterion.to(device)"
   ]
  },
  {
   "cell_type": "markdown",
   "metadata": {
    "id": "Ta20ncgtwg2J"
   },
   "source": [
    "### Train our second model with TfIdf vectorized input."
   ]
  },
  {
   "cell_type": "code",
   "execution_count": 46,
   "metadata": {
    "executionInfo": {
     "elapsed": 17035,
     "status": "ok",
     "timestamp": 1606221413893,
     "user": {
      "displayName": "Σπύρος Μπριάκος",
      "photoUrl": "https://lh3.googleusercontent.com/a-/AOh14GjNL6_AeJ04NmNTaMqHmM_937BV9V7KYBr1Gkx9_g=s64",
      "userId": "14497433372697123826"
     },
     "user_tz": -120
    },
    "id": "lBfv-BpSwg2J"
   },
   "outputs": [],
   "source": [
    "# Call train_model with appropriate args and store into lists losses and accuracies.\n",
    "tfidf_train_losses,tfidf_val_losses,tfidf_train_accs,tfidf_val_accs = train_model(tfidf_second_model,criterion,optimizer,tfidf_X_train,tfidf_X_val,Y_train,Y_val,epochs=30,batch_size=10000)"
   ]
  },
  {
   "cell_type": "markdown",
   "metadata": {
    "id": "oPN9DGoFwg2J"
   },
   "source": [
    "### Let's check what happened in training on second TfIdf model.\n"
   ]
  },
  {
   "cell_type": "code",
   "execution_count": 50,
   "metadata": {
    "colab": {
     "base_uri": "https://localhost:8080/",
     "height": 639
    },
    "executionInfo": {
     "elapsed": 1761,
     "status": "ok",
     "timestamp": 1606221443820,
     "user": {
      "displayName": "Σπύρος Μπριάκος",
      "photoUrl": "https://lh3.googleusercontent.com/a-/AOh14GjNL6_AeJ04NmNTaMqHmM_937BV9V7KYBr1Gkx9_g=s64",
      "userId": "14497433372697123826"
     },
     "user_tz": -120
    },
    "id": "wjoggzEowg2J",
    "outputId": "96dbfd4a-adb7-4917-8e72-0c8aa74685db"
   },
   "outputs": [
    {
     "data": {
      "image/png": "[encoded data removed]",
      "text/plain": [
       "<Figure size 2160x720 with 2 Axes>"
      ]
     },
     "metadata": {
      "needs_background": "light",
      "tags": []
     },
     "output_type": "display_data"
    }
   ],
   "source": [
    "fig,axs = plt.subplots(1,2,figsize=(30,10))\n",
    "\n",
    "early_stopping = 23\n",
    "\n",
    "# Plot Train and Validation Losses with TfIdf vectorization.\n",
    "axs[0].set_title(\"Train and Validation Losses (TfIdf)\",size=25)\n",
    "axs[0].set_ylabel('Loss', fontsize = 20.0) \n",
    "axs[0].set_xlabel('Epochs', fontsize = 20) \n",
    "_=axs[0].plot(tfidf_train_losses,'-c')\n",
    "_=axs[0].plot(tfidf_val_losses,'-m')\n",
    "_=axs[0].axvline(x=early_stopping,color='r')\n",
    "_=axs[0].legend(('Train','Val'),loc='upper right',fontsize='x-large')\n",
    "\n",
    "# Plot Train and Validation Accuracies with TfIdf vectorization.\n",
    "axs[1].set_title(\"Train and Validation Accuracies (TfIdf)\",size=25)\n",
    "axs[1].set_ylabel('Accuracy', fontsize = 20.0) \n",
    "axs[1].set_xlabel('Epochs', fontsize = 20) \n",
    "_=axs[1].plot(tfidf_train_accs,'-c')\n",
    "_=axs[1].plot(tfidf_val_accs,'-m')\n",
    "_=axs[1].axvline(x=early_stopping,color='r')\n",
    "_=axs[1].legend(('Train','Val'),loc='best',fontsize='x-large')"
   ]
  },
  {
   "cell_type": "markdown",
   "metadata": {
    "id": "e-M2UDGiwg2M"
   },
   "source": [
    "### Evaluation of our second model with classification report and with manually implemented calculate_accuracy() function."
   ]
  },
  {
   "cell_type": "code",
   "execution_count": 48,
   "metadata": {
    "colab": {
     "base_uri": "https://localhost:8080/"
    },
    "executionInfo": {
     "elapsed": 17020,
     "status": "ok",
     "timestamp": 1606221413895,
     "user": {
      "displayName": "Σπύρος Μπριάκος",
      "photoUrl": "https://lh3.googleusercontent.com/a-/AOh14GjNL6_AeJ04NmNTaMqHmM_937BV9V7KYBr1Gkx9_g=s64",
      "userId": "14497433372697123826"
     },
     "user_tz": -120
    },
    "id": "QxhzR3cBwg2M",
    "outputId": "f3aa2c25-f1a9-44d7-dfdd-e58932d444e2"
   },
   "outputs": [
    {
     "name": "stdout",
     "output_type": "stream",
     "text": [
      "              precision    recall  f1-score   support\n",
      "\n",
      "         0.0       0.78      0.78      0.78      1228\n",
      "         1.0       0.79      0.78      0.78      1272\n",
      "\n",
      "    accuracy                           0.78      2500\n",
      "   macro avg       0.78      0.78      0.78      2500\n",
      "weighted avg       0.78      0.78      0.78      2500\n",
      "\n",
      "Second TfIdf Model Test's Accuracy: 0.78\n"
     ]
    }
   ],
   "source": [
    "print(\"Second TfIdf Model Test's Accuracy:\",tfidf_second_model.evaluate(tfidf_X_test,Y_test,True))"
   ]
  },
  {
   "cell_type": "markdown",
   "metadata": {
    "id": "CxityTogL0V6"
   },
   "source": [
    "### General Notes about our second TfIdf NN model."
   ]
  },
  {
   "cell_type": "markdown",
   "metadata": {
    "id": "XTue6joqL0V6"
   },
   "source": [
    "> Our Neural Network Model has the above structure:\n",
    "\n",
    "> Input Layer (Relu) -> 5 hidden Layers with units=128 (Relu) -> Output Layer units=1 (Sigmoid)\n",
    "\n",
    "> For input of NN we vectorized our tweets with help of TfIdf Vectorizer from sklearn, but we had to keep only 1000 features with biggest values of TfIdf, due to memory limit. In that way we could load only the first half million rows of our dataset."
   ]
  },
  {
   "cell_type": "markdown",
   "metadata": {
    "id": "DJ_kPVuAMSZc"
   },
   "source": [
    "### Experiment's Conclusions."
   ]
  },
  {
   "cell_type": "markdown",
   "metadata": {
    "id": "SRMbj_ekMSZc"
   },
   "source": [
    "> After many experiments with our deep NN model we observe that our model has a big complexity due to its depth. So this affects overfitting, which we can see that takes place after approximately epoch 23. \n",
    "\n",
    "> After studying and reading in articles and books with topic 'Machine Learning' and 'Deep Learning', out there everybody for binary classification problems recommends as criterion Binary Cross Entropy Loss and as optimizer with descent performance Adam. I can confirm these thoughts cause other criterions and optimizers didn't perform well.\n",
    "\n",
    "> The weight decay parameter adds a L2 penalty to the cost which can effectively lead to to smaller model weights. This helped us a lot with tackling overfitting.\n",
    "\n",
    "> We set batch size to default 10.000, cause we have a huge dataset so as to run our model much faster.\n",
    "\n",
    "> We experimented a lot with number of hidden units and finally ended up to agic number 128. We prefer hidden units to be 2^k in order to help memory management of our computer.\n",
    "\n",
    "\n"
   ]
  },
  {
   "cell_type": "markdown",
   "metadata": {
    "id": "J_w3KaOfUoqb"
   },
   "source": [
    "### Plot ROC-Curve for our best model!"
   ]
  },
  {
   "cell_type": "code",
   "execution_count": 51,
   "metadata": {
    "colab": {
     "base_uri": "https://localhost:8080/",
     "height": 520
    },
    "executionInfo": {
     "elapsed": 1226,
     "status": "ok",
     "timestamp": 1606222547115,
     "user": {
      "displayName": "Σπύρος Μπριάκος",
      "photoUrl": "https://lh3.googleusercontent.com/a-/AOh14GjNL6_AeJ04NmNTaMqHmM_937BV9V7KYBr1Gkx9_g=s64",
      "userId": "14497433372697123826"
     },
     "user_tz": -120
    },
    "id": "JGhV6CSNUoqb",
    "outputId": "a86022b7-aff2-4ac3-d8fd-8e3efbc817cb"
   },
   "outputs": [
    {
     "data": {
      "image/png": "[encoded data removed]",
      "text/plain": [
       "<Figure size 576x576 with 1 Axes>"
      ]
     },
     "metadata": {
      "needs_background": "light",
      "tags": []
     },
     "output_type": "display_data"
    }
   ],
   "source": [
    "# Get predictions of our best NN model.\n",
    "y_score = tfidf_second_model.fit(tfidf_X_test.float())\n",
    "\n",
    "# Convert tensors to numpy arrays.\n",
    "y_score = y_score.cpu().detach().numpy()\n",
    "y = Y_test.cpu().detach().numpy()\n",
    "\n",
    "# Label binarization and store num of classes.\n",
    "y_test = label_binarize(y, classes=[0, 1])\n",
    "n_classes = y_test.shape[1]\n",
    "\n",
    "# Compute ROC curve and ROC area for each class\n",
    "fpr = dict()\n",
    "tpr = dict()\n",
    "roc_auc = dict()\n",
    "for i in range(n_classes):\n",
    "    fpr[i], tpr[i], _ = roc_curve(y_test[:,i], y_score[:,i])\n",
    "    roc_auc[i] = auc(fpr[i], tpr[i])\n",
    "\n",
    "plt.figure(figsize=(8,8))\n",
    "lw = 2\n",
    "plt.plot(fpr[0], tpr[0], color='darkorange',lw=lw, label='ROC curve (area = %0.2f)' % roc_auc[0])\n",
    "plt.plot([0, 1], [0, 1], color='navy', lw=lw, linestyle='--')\n",
    "plt.xlim([0.0, 1.0])\n",
    "plt.ylim([0.0, 1.05])\n",
    "plt.xlabel('False Positive Rate',fontsize=15)\n",
    "plt.ylabel('True Positive Rate',fontsize=15)\n",
    "plt.title('Receiver operating characteristic example',fontsize=15)\n",
    "plt.legend(loc=\"lower right\",fontsize=15)\n",
    "plt.show()"
   ]
  },
  {
   "cell_type": "markdown",
   "metadata": {
    "id": "6IBAhW5wOa5X"
   },
   "source": [
    "### Final Results."
   ]
  },
  {
   "cell_type": "markdown",
   "metadata": {
    "id": "YR00Xq7NOa5X"
   },
   "source": [
    "> After this quick look in deep tfidf NN model we understood that our current dataset is pretty much susceptible to overfitting (if we apply it to a complex model with many hidden layers and many hidden units much more susceptible). \n",
    "\n",
    "> Despite the fact that our 2 Tfidf models have exaclty the same score, 0.78, we cannot ignore the fact that in our deep model overfitting was a big problem and we couldln't decrease it due to second's model's complexity, so we apply technique of early stopping.\n",
    "\n",
    "> From the other hand, deep NN model reached 0.78 only with training of 30 epochs, compared to swallow first tfidf model which needed almost 100 epochs. And here is the big difference... The deepest NN model needed less epochs cause has 5 hidden layers so can more easily learn than the swallow one... So the theory,that we mentioned before, came true!\n",
    "\n",
    "> So... I believe that we have 2 winners! Between our 3 models (GloVe and 2 TfIdf models) our winners are our 2 Tfidf models with score 0.78.\n",
    "\n",
    "1. The swallow (first) TfIdf model overcomes problem of overfitting with early \n",
    "stopping in epoch 90, with only 2 hidden layers (plus advantage is its very descent and smooth learning curves).\n",
    "\n",
    "2. The deep (second) TfIdf model overcomes problem of overfitting with early \n",
    "stopping in epoch 23, with 5 hidden layers. \n",
    "\n",
    "> For that reason we plot ROC Curve for both TfIdf models...\n",
    "\n",
    "> Compared with previous assigment Logistic Regression Model input dataset be our 500.000 first tweets and crucial parameter (max_features=1000) had score 0.77. So our TfIdf NN models performed better with neglible difference, 0.01.\n",
    "\n",
    "> Final Note: Compared to GloVe model it was pretty much obvious that GloVe will perform worse, due to limited information (50 dimensions for each word and for each tweet with our technique). Note that we try and other pre trained GloVe models with much more dimensions, for example 200,400 dimensions, but there overfitting was inevitable."
   ]
  }
 ],
 "metadata": {
  "accelerator": "GPU",
  "colab": {
   "collapsed_sections": [],
   "name": "TfIdf_Model.ipynb",
   "provenance": []
  },
  "kernelspec": {
   "display_name": "Python 3",
   "language": "python",
   "name": "python3"
  },
  "language_info": {
   "codemirror_mode": {
    "name": "ipython",
    "version": 3
   },
   "file_extension": ".py",
   "mimetype": "text/x-python",
   "name": "python",
   "nbconvert_exporter": "python",
   "pygments_lexer": "ipython3",
   "version": "3.7.6"
  }
 },
 "nbformat": 4,
 "nbformat_minor": 1
}
