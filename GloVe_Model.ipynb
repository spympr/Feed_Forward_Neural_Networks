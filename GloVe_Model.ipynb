{
 "cells": [
  {
   "cell_type": "markdown",
   "metadata": {
    "id": "KDEujB0bjP1k"
   },
   "source": [
    "# Evaluation of our Neural Network Model (on GloVe vectorized dataset).\n"
   ]
  },
  {
   "cell_type": "markdown",
   "metadata": {
    "id": "lcpDZK6njYN9"
   },
   "source": [
    "## Import useful libraries."
   ]
  },
  {
   "cell_type": "code",
   "execution_count": null,
   "metadata": {
    "colab": {
     "base_uri": "https://localhost:8080/"
    },
    "executionInfo": {
     "elapsed": 2737,
     "status": "ok",
     "timestamp": 1606163111869,
     "user": {
      "displayName": "Σπύρος Μπριάκος",
      "photoUrl": "https://lh3.googleusercontent.com/a-/AOh14GjNL6_AeJ04NmNTaMqHmM_937BV9V7KYBr1Gkx9_g=s64",
      "userId": "14497433372697123826"
     },
     "user_tz": -120
    },
    "id": "tZbypE894o-C",
    "outputId": "f4ecf72f-2775-4f8a-f53e-99f68f9e0f56"
   },
   "outputs": [
    {
     "name": "stdout",
     "output_type": "stream",
     "text": [
      "Drive already mounted at /content/drive/; to attempt to forcibly remount, call drive.mount(\"/content/drive/\", force_remount=True).\n",
      "[nltk_data] Downloading package wordnet to /root/nltk_data...\n",
      "[nltk_data]   Package wordnet is already up-to-date!\n"
     ]
    },
    {
     "data": {
      "text/plain": [
       "True"
      ]
     },
     "execution_count": 1,
     "metadata": {
      "tags": []
     },
     "output_type": "execute_result"
    }
   ],
   "source": [
    "import pandas as pd\n",
    "import numpy as np\n",
    "import matplotlib.pyplot as plt \n",
    "import string\n",
    "import re\n",
    "import nltk\n",
    "import pickle\n",
    "\n",
    "from gensim.utils import simple_preprocess\n",
    "from gensim import corpora\n",
    "\n",
    "from sklearn.model_selection import train_test_split\n",
    "from sklearn.linear_model import LogisticRegression \n",
    "from sklearn.feature_extraction.text import TfidfVectorizer,CountVectorizer\n",
    "from sklearn.metrics import recall_score,f1_score,precision_score,classification_report,roc_curve,auc\n",
    "from sklearn.model_selection import cross_val_score\n",
    "\n",
    "import torch\n",
    "import torch.nn as nn\n",
    "import torch.nn.functional as F\n",
    "import torch.optim as optim\n",
    "\n",
    "from google.colab import drive\n",
    "drive.mount('/content/drive/')\n",
    "nltk.download('wordnet')"
   ]
  },
  {
   "cell_type": "markdown",
   "metadata": {
    "id": "IaPejdFWjeT2"
   },
   "source": [
    "## Retrieve and clean our dataset."
   ]
  },
  {
   "cell_type": "markdown",
   "metadata": {
    "id": "OhncMnd5jnGz"
   },
   "source": [
    "### Retrieve and display our dataset!"
   ]
  },
  {
   "cell_type": "code",
   "execution_count": null,
   "metadata": {
    "colab": {
     "base_uri": "https://localhost:8080/"
    },
    "executionInfo": {
     "elapsed": 6995,
     "status": "ok",
     "timestamp": 1606163116138,
     "user": {
      "displayName": "Σπύρος Μπριάκος",
      "photoUrl": "https://lh3.googleusercontent.com/a-/AOh14GjNL6_AeJ04NmNTaMqHmM_937BV9V7KYBr1Gkx9_g=s64",
      "userId": "14497433372697123826"
     },
     "user_tz": -120
    },
    "id": "dd42iUya4M4g",
    "outputId": "9339a71d-c235-4a6b-9b8b-657620c71aac"
   },
   "outputs": [
    {
     "data": {
      "text/html": [
       "<div>\n",
       "<style scoped>\n",
       "    .dataframe tbody tr th:only-of-type {\n",
       "        vertical-align: middle;\n",
       "    }\n",
       "\n",
       "    .dataframe tbody tr th {\n",
       "        vertical-align: top;\n",
       "    }\n",
       "\n",
       "    .dataframe thead th {\n",
       "        text-align: right;\n",
       "    }\n",
       "</style>\n",
       "<table border=\"1\" class=\"dataframe\">\n",
       "  <thead>\n",
       "    <tr style=\"text-align: right;\">\n",
       "      <th></th>\n",
       "      <th>text</th>\n",
       "    </tr>\n",
       "  </thead>\n",
       "  <tbody>\n",
       "    <tr>\n",
       "      <th>0</th>\n",
       "      <td>#brokenpromises...</td>\n",
       "    </tr>\n",
       "    <tr>\n",
       "      <th>1</th>\n",
       "      <td>David Carradine  so sad. Thai's law not sure i...</td>\n",
       "    </tr>\n",
       "    <tr>\n",
       "      <th>2</th>\n",
       "      <td>A @ 415 B @ 425. Tell your bro i say congrats!</td>\n",
       "    </tr>\n",
       "    <tr>\n",
       "      <th>3</th>\n",
       "      <td>@littlefluffycat  Indeed.</td>\n",
       "    </tr>\n",
       "    <tr>\n",
       "      <th>4</th>\n",
       "      <td>Completed Race 4 Life in 58mins with girlies f...</td>\n",
       "    </tr>\n",
       "    <tr>\n",
       "      <th>...</th>\n",
       "      <td>...</td>\n",
       "    </tr>\n",
       "    <tr>\n",
       "      <th>1279995</th>\n",
       "      <td>@zawhtutwin watching cartoon and cry? oh i do ...</td>\n",
       "    </tr>\n",
       "    <tr>\n",
       "      <th>1279996</th>\n",
       "      <td>is eating mcdonalds</td>\n",
       "    </tr>\n",
       "    <tr>\n",
       "      <th>1279997</th>\n",
       "      <td>@BestSoyLatte So sorry to hear about your car....</td>\n",
       "    </tr>\n",
       "    <tr>\n",
       "      <th>1279998</th>\n",
       "      <td>@leesherry you have done what you could. Forgi...</td>\n",
       "    </tr>\n",
       "    <tr>\n",
       "      <th>1279999</th>\n",
       "      <td>i should b sleepin  i hate 8am's!!!!!!!</td>\n",
       "    </tr>\n",
       "  </tbody>\n",
       "</table>\n",
       "<p>1280000 rows × 1 columns</p>\n",
       "</div>"
      ],
      "text/plain": [
       "                                                      text\n",
       "0                                      #brokenpromises... \n",
       "1        David Carradine  so sad. Thai's law not sure i...\n",
       "2          A @ 415 B @ 425. Tell your bro i say congrats! \n",
       "3                                @littlefluffycat  Indeed.\n",
       "4        Completed Race 4 Life in 58mins with girlies f...\n",
       "...                                                    ...\n",
       "1279995  @zawhtutwin watching cartoon and cry? oh i do ...\n",
       "1279996                               is eating mcdonalds \n",
       "1279997  @BestSoyLatte So sorry to hear about your car....\n",
       "1279998  @leesherry you have done what you could. Forgi...\n",
       "1279999            i should b sleepin  i hate 8am's!!!!!!!\n",
       "\n",
       "[1280000 rows x 1 columns]"
      ]
     },
     "metadata": {
      "tags": []
     },
     "output_type": "display_data"
    },
    {
     "data": {
      "text/html": [
       "<div>\n",
       "<style scoped>\n",
       "    .dataframe tbody tr th:only-of-type {\n",
       "        vertical-align: middle;\n",
       "    }\n",
       "\n",
       "    .dataframe tbody tr th {\n",
       "        vertical-align: top;\n",
       "    }\n",
       "\n",
       "    .dataframe thead th {\n",
       "        text-align: right;\n",
       "    }\n",
       "</style>\n",
       "<table border=\"1\" class=\"dataframe\">\n",
       "  <thead>\n",
       "    <tr style=\"text-align: right;\">\n",
       "      <th></th>\n",
       "      <th>target</th>\n",
       "    </tr>\n",
       "  </thead>\n",
       "  <tbody>\n",
       "    <tr>\n",
       "      <th>0</th>\n",
       "      <td>0</td>\n",
       "    </tr>\n",
       "    <tr>\n",
       "      <th>1</th>\n",
       "      <td>0</td>\n",
       "    </tr>\n",
       "    <tr>\n",
       "      <th>2</th>\n",
       "      <td>4</td>\n",
       "    </tr>\n",
       "    <tr>\n",
       "      <th>3</th>\n",
       "      <td>4</td>\n",
       "    </tr>\n",
       "    <tr>\n",
       "      <th>4</th>\n",
       "      <td>4</td>\n",
       "    </tr>\n",
       "    <tr>\n",
       "      <th>...</th>\n",
       "      <td>...</td>\n",
       "    </tr>\n",
       "    <tr>\n",
       "      <th>1279995</th>\n",
       "      <td>4</td>\n",
       "    </tr>\n",
       "    <tr>\n",
       "      <th>1279996</th>\n",
       "      <td>4</td>\n",
       "    </tr>\n",
       "    <tr>\n",
       "      <th>1279997</th>\n",
       "      <td>0</td>\n",
       "    </tr>\n",
       "    <tr>\n",
       "      <th>1279998</th>\n",
       "      <td>4</td>\n",
       "    </tr>\n",
       "    <tr>\n",
       "      <th>1279999</th>\n",
       "      <td>0</td>\n",
       "    </tr>\n",
       "  </tbody>\n",
       "</table>\n",
       "<p>1280000 rows × 1 columns</p>\n",
       "</div>"
      ],
      "text/plain": [
       "         target\n",
       "0             0\n",
       "1             0\n",
       "2             4\n",
       "3             4\n",
       "4             4\n",
       "...         ...\n",
       "1279995       4\n",
       "1279996       4\n",
       "1279997       0\n",
       "1279998       4\n",
       "1279999       0\n",
       "\n",
       "[1280000 rows x 1 columns]"
      ]
     },
     "metadata": {
      "tags": []
     },
     "output_type": "display_data"
    }
   ],
   "source": [
    "data = pd.read_csv(r'/content/drive/My Drive/AI(II)/datasets/SentimentTweets.csv')\n",
    "\n",
    "X = pd.DataFrame(data['text'],columns=['text'])\n",
    "Y = pd.DataFrame(data['target'],columns=['target'])\n",
    "\n",
    "display(X,Y)"
   ]
  },
  {
   "cell_type": "markdown",
   "metadata": {
    "id": "Lf_WkEwglFmk"
   },
   "source": [
    "### Convert to lowercase."
   ]
  },
  {
   "cell_type": "code",
   "execution_count": null,
   "metadata": {
    "colab": {
     "base_uri": "https://localhost:8080/"
    },
    "executionInfo": {
     "elapsed": 7425,
     "status": "ok",
     "timestamp": 1606163116577,
     "user": {
      "displayName": "Σπύρος Μπριάκος",
      "photoUrl": "https://lh3.googleusercontent.com/a-/AOh14GjNL6_AeJ04NmNTaMqHmM_937BV9V7KYBr1Gkx9_g=s64",
      "userId": "14497433372697123826"
     },
     "user_tz": -120
    },
    "id": "DevHcQ92lJFK",
    "outputId": "0304c6e7-e050-495c-d7f7-2c09d10c3068"
   },
   "outputs": [
    {
     "data": {
      "text/html": [
       "<div>\n",
       "<style scoped>\n",
       "    .dataframe tbody tr th:only-of-type {\n",
       "        vertical-align: middle;\n",
       "    }\n",
       "\n",
       "    .dataframe tbody tr th {\n",
       "        vertical-align: top;\n",
       "    }\n",
       "\n",
       "    .dataframe thead th {\n",
       "        text-align: right;\n",
       "    }\n",
       "</style>\n",
       "<table border=\"1\" class=\"dataframe\">\n",
       "  <thead>\n",
       "    <tr style=\"text-align: right;\">\n",
       "      <th></th>\n",
       "      <th>text</th>\n",
       "    </tr>\n",
       "  </thead>\n",
       "  <tbody>\n",
       "    <tr>\n",
       "      <th>0</th>\n",
       "      <td>#brokenpromises...</td>\n",
       "    </tr>\n",
       "    <tr>\n",
       "      <th>1</th>\n",
       "      <td>david carradine  so sad. thai's law not sure i...</td>\n",
       "    </tr>\n",
       "    <tr>\n",
       "      <th>2</th>\n",
       "      <td>a @ 415 b @ 425. tell your bro i say congrats!</td>\n",
       "    </tr>\n",
       "    <tr>\n",
       "      <th>3</th>\n",
       "      <td>@littlefluffycat  indeed.</td>\n",
       "    </tr>\n",
       "    <tr>\n",
       "      <th>4</th>\n",
       "      <td>completed race 4 life in 58mins with girlies f...</td>\n",
       "    </tr>\n",
       "    <tr>\n",
       "      <th>...</th>\n",
       "      <td>...</td>\n",
       "    </tr>\n",
       "    <tr>\n",
       "      <th>1279995</th>\n",
       "      <td>@zawhtutwin watching cartoon and cry? oh i do ...</td>\n",
       "    </tr>\n",
       "    <tr>\n",
       "      <th>1279996</th>\n",
       "      <td>is eating mcdonalds</td>\n",
       "    </tr>\n",
       "    <tr>\n",
       "      <th>1279997</th>\n",
       "      <td>@bestsoylatte so sorry to hear about your car....</td>\n",
       "    </tr>\n",
       "    <tr>\n",
       "      <th>1279998</th>\n",
       "      <td>@leesherry you have done what you could. forgi...</td>\n",
       "    </tr>\n",
       "    <tr>\n",
       "      <th>1279999</th>\n",
       "      <td>i should b sleepin  i hate 8am's!!!!!!!</td>\n",
       "    </tr>\n",
       "  </tbody>\n",
       "</table>\n",
       "<p>1280000 rows × 1 columns</p>\n",
       "</div>"
      ],
      "text/plain": [
       "                                                      text\n",
       "0                                      #brokenpromises... \n",
       "1        david carradine  so sad. thai's law not sure i...\n",
       "2          a @ 415 b @ 425. tell your bro i say congrats! \n",
       "3                                @littlefluffycat  indeed.\n",
       "4        completed race 4 life in 58mins with girlies f...\n",
       "...                                                    ...\n",
       "1279995  @zawhtutwin watching cartoon and cry? oh i do ...\n",
       "1279996                               is eating mcdonalds \n",
       "1279997  @bestsoylatte so sorry to hear about your car....\n",
       "1279998  @leesherry you have done what you could. forgi...\n",
       "1279999            i should b sleepin  i hate 8am's!!!!!!!\n",
       "\n",
       "[1280000 rows x 1 columns]"
      ]
     },
     "metadata": {
      "tags": []
     },
     "output_type": "display_data"
    }
   ],
   "source": [
    "X['text'] = X['text'].str.lower()\n",
    "display(X)"
   ]
  },
  {
   "cell_type": "markdown",
   "metadata": {
    "id": "vJMxwqDLmIWm"
   },
   "source": [
    "### Replace where is 4 to 1 (binary form)."
   ]
  },
  {
   "cell_type": "code",
   "execution_count": null,
   "metadata": {
    "colab": {
     "base_uri": "https://localhost:8080/"
    },
    "executionInfo": {
     "elapsed": 7421,
     "status": "ok",
     "timestamp": 1606163116582,
     "user": {
      "displayName": "Σπύρος Μπριάκος",
      "photoUrl": "https://lh3.googleusercontent.com/a-/AOh14GjNL6_AeJ04NmNTaMqHmM_937BV9V7KYBr1Gkx9_g=s64",
      "userId": "14497433372697123826"
     },
     "user_tz": -120
    },
    "id": "6WpBOVnNmN2m",
    "outputId": "084a36e8-04ec-463d-e7a8-4f8c09ff64cc"
   },
   "outputs": [
    {
     "data": {
      "text/html": [
       "<div>\n",
       "<style scoped>\n",
       "    .dataframe tbody tr th:only-of-type {\n",
       "        vertical-align: middle;\n",
       "    }\n",
       "\n",
       "    .dataframe tbody tr th {\n",
       "        vertical-align: top;\n",
       "    }\n",
       "\n",
       "    .dataframe thead th {\n",
       "        text-align: right;\n",
       "    }\n",
       "</style>\n",
       "<table border=\"1\" class=\"dataframe\">\n",
       "  <thead>\n",
       "    <tr style=\"text-align: right;\">\n",
       "      <th></th>\n",
       "      <th>target</th>\n",
       "    </tr>\n",
       "  </thead>\n",
       "  <tbody>\n",
       "    <tr>\n",
       "      <th>0</th>\n",
       "      <td>0</td>\n",
       "    </tr>\n",
       "    <tr>\n",
       "      <th>1</th>\n",
       "      <td>0</td>\n",
       "    </tr>\n",
       "    <tr>\n",
       "      <th>2</th>\n",
       "      <td>1</td>\n",
       "    </tr>\n",
       "    <tr>\n",
       "      <th>3</th>\n",
       "      <td>1</td>\n",
       "    </tr>\n",
       "    <tr>\n",
       "      <th>4</th>\n",
       "      <td>1</td>\n",
       "    </tr>\n",
       "    <tr>\n",
       "      <th>...</th>\n",
       "      <td>...</td>\n",
       "    </tr>\n",
       "    <tr>\n",
       "      <th>1279995</th>\n",
       "      <td>1</td>\n",
       "    </tr>\n",
       "    <tr>\n",
       "      <th>1279996</th>\n",
       "      <td>1</td>\n",
       "    </tr>\n",
       "    <tr>\n",
       "      <th>1279997</th>\n",
       "      <td>0</td>\n",
       "    </tr>\n",
       "    <tr>\n",
       "      <th>1279998</th>\n",
       "      <td>1</td>\n",
       "    </tr>\n",
       "    <tr>\n",
       "      <th>1279999</th>\n",
       "      <td>0</td>\n",
       "    </tr>\n",
       "  </tbody>\n",
       "</table>\n",
       "<p>1280000 rows × 1 columns</p>\n",
       "</div>"
      ],
      "text/plain": [
       "         target\n",
       "0             0\n",
       "1             0\n",
       "2             1\n",
       "3             1\n",
       "4             1\n",
       "...         ...\n",
       "1279995       1\n",
       "1279996       1\n",
       "1279997       0\n",
       "1279998       1\n",
       "1279999       0\n",
       "\n",
       "[1280000 rows x 1 columns]"
      ]
     },
     "metadata": {
      "tags": []
     },
     "output_type": "display_data"
    },
    {
     "name": "stdout",
     "output_type": "stream",
     "text": [
      "target\n",
      "1         640609\n",
      "0         639391\n",
      "dtype: int64\n"
     ]
    }
   ],
   "source": [
    "Y = Y.replace(4,1)\n",
    "display(Y)\n",
    "print(Y.value_counts())"
   ]
  },
  {
   "cell_type": "markdown",
   "metadata": {
    "id": "B8xlkDaNmXhI"
   },
   "source": [
    "### Removal of special characters and punctuation."
   ]
  },
  {
   "cell_type": "code",
   "execution_count": null,
   "metadata": {
    "colab": {
     "base_uri": "https://localhost:8080/"
    },
    "executionInfo": {
     "elapsed": 19353,
     "status": "ok",
     "timestamp": 1606163128522,
     "user": {
      "displayName": "Σπύρος Μπριάκος",
      "photoUrl": "https://lh3.googleusercontent.com/a-/AOh14GjNL6_AeJ04NmNTaMqHmM_937BV9V7KYBr1Gkx9_g=s64",
      "userId": "14497433372697123826"
     },
     "user_tz": -120
    },
    "id": "yk04tMzHmfEB",
    "outputId": "9dfefc11-35d3-4ad9-d39e-4847cb17170d"
   },
   "outputs": [
    {
     "data": {
      "text/html": [
       "<div>\n",
       "<style scoped>\n",
       "    .dataframe tbody tr th:only-of-type {\n",
       "        vertical-align: middle;\n",
       "    }\n",
       "\n",
       "    .dataframe tbody tr th {\n",
       "        vertical-align: top;\n",
       "    }\n",
       "\n",
       "    .dataframe thead th {\n",
       "        text-align: right;\n",
       "    }\n",
       "</style>\n",
       "<table border=\"1\" class=\"dataframe\">\n",
       "  <thead>\n",
       "    <tr style=\"text-align: right;\">\n",
       "      <th></th>\n",
       "      <th>text</th>\n",
       "    </tr>\n",
       "  </thead>\n",
       "  <tbody>\n",
       "    <tr>\n",
       "      <th>0</th>\n",
       "      <td>brokenpromises</td>\n",
       "    </tr>\n",
       "    <tr>\n",
       "      <th>1</th>\n",
       "      <td>david carradine  so sad thais law not sure if ...</td>\n",
       "    </tr>\n",
       "    <tr>\n",
       "      <th>2</th>\n",
       "      <td>a  415 b  425 tell your bro i say congrats</td>\n",
       "    </tr>\n",
       "    <tr>\n",
       "      <th>3</th>\n",
       "      <td>littlefluffycat  indeed</td>\n",
       "    </tr>\n",
       "    <tr>\n",
       "      <th>4</th>\n",
       "      <td>completed race 4 life in 58mins with girlies f...</td>\n",
       "    </tr>\n",
       "    <tr>\n",
       "      <th>...</th>\n",
       "      <td>...</td>\n",
       "    </tr>\n",
       "    <tr>\n",
       "      <th>1279995</th>\n",
       "      <td>zawhtutwin watching cartoon and cry oh i do th...</td>\n",
       "    </tr>\n",
       "    <tr>\n",
       "      <th>1279996</th>\n",
       "      <td>is eating mcdonalds</td>\n",
       "    </tr>\n",
       "    <tr>\n",
       "      <th>1279997</th>\n",
       "      <td>bestsoylatte so sorry to hear about your carth...</td>\n",
       "    </tr>\n",
       "    <tr>\n",
       "      <th>1279998</th>\n",
       "      <td>leesherry you have done what you could forgive...</td>\n",
       "    </tr>\n",
       "    <tr>\n",
       "      <th>1279999</th>\n",
       "      <td>i should b sleepin  i hate 8ams</td>\n",
       "    </tr>\n",
       "  </tbody>\n",
       "</table>\n",
       "<p>1280000 rows × 1 columns</p>\n",
       "</div>"
      ],
      "text/plain": [
       "                                                      text\n",
       "0                                          brokenpromises \n",
       "1        david carradine  so sad thais law not sure if ...\n",
       "2              a  415 b  425 tell your bro i say congrats \n",
       "3                                  littlefluffycat  indeed\n",
       "4        completed race 4 life in 58mins with girlies f...\n",
       "...                                                    ...\n",
       "1279995  zawhtutwin watching cartoon and cry oh i do th...\n",
       "1279996                               is eating mcdonalds \n",
       "1279997  bestsoylatte so sorry to hear about your carth...\n",
       "1279998  leesherry you have done what you could forgive...\n",
       "1279999                    i should b sleepin  i hate 8ams\n",
       "\n",
       "[1280000 rows x 1 columns]"
      ]
     },
     "metadata": {
      "tags": []
     },
     "output_type": "display_data"
    }
   ],
   "source": [
    "def remove_special_characters(text, remove_digits=True):\n",
    "  pattern = r'[^a-zA-z0-9\\s]'\n",
    "  text = re.sub(pattern,'',text)\n",
    "  return text\n",
    "\n",
    "X['text'] = X['text'].apply(lambda x:''.join([i for i in x if i not in string.punctuation]))\n",
    "\n",
    "X['text'] = X['text'].apply(remove_special_characters)\n",
    "\n",
    "display(X)"
   ]
  },
  {
   "cell_type": "markdown",
   "metadata": {
    "id": "D8BPm_KMgF8o"
   },
   "source": [
    "### Tokenization."
   ]
  },
  {
   "cell_type": "code",
   "execution_count": null,
   "metadata": {
    "colab": {
     "base_uri": "https://localhost:8080/"
    },
    "executionInfo": {
     "elapsed": 61111,
     "status": "ok",
     "timestamp": 1606163170288,
     "user": {
      "displayName": "Σπύρος Μπριάκος",
      "photoUrl": "https://lh3.googleusercontent.com/a-/AOh14GjNL6_AeJ04NmNTaMqHmM_937BV9V7KYBr1Gkx9_g=s64",
      "userId": "14497433372697123826"
     },
     "user_tz": -120
    },
    "id": "Wbx5i_tOgIxm",
    "outputId": "6e98086d-17ab-4481-babe-7b9a614bc1e4"
   },
   "outputs": [
    {
     "data": {
      "text/html": [
       "<div>\n",
       "<style scoped>\n",
       "    .dataframe tbody tr th:only-of-type {\n",
       "        vertical-align: middle;\n",
       "    }\n",
       "\n",
       "    .dataframe tbody tr th {\n",
       "        vertical-align: top;\n",
       "    }\n",
       "\n",
       "    .dataframe thead th {\n",
       "        text-align: right;\n",
       "    }\n",
       "</style>\n",
       "<table border=\"1\" class=\"dataframe\">\n",
       "  <thead>\n",
       "    <tr style=\"text-align: right;\">\n",
       "      <th></th>\n",
       "      <th>text</th>\n",
       "    </tr>\n",
       "  </thead>\n",
       "  <tbody>\n",
       "    <tr>\n",
       "      <th>0</th>\n",
       "      <td>[brokenpromises]</td>\n",
       "    </tr>\n",
       "    <tr>\n",
       "      <th>1</th>\n",
       "      <td>[david, carradine, so, sad, thais, law, not, s...</td>\n",
       "    </tr>\n",
       "    <tr>\n",
       "      <th>2</th>\n",
       "      <td>[tell, your, bro, say, congrats]</td>\n",
       "    </tr>\n",
       "    <tr>\n",
       "      <th>3</th>\n",
       "      <td>[littlefluffycat, indeed]</td>\n",
       "    </tr>\n",
       "    <tr>\n",
       "      <th>4</th>\n",
       "      <td>[completed, race, life, in, mins, with, girlie...</td>\n",
       "    </tr>\n",
       "    <tr>\n",
       "      <th>...</th>\n",
       "      <td>...</td>\n",
       "    </tr>\n",
       "    <tr>\n",
       "      <th>1279995</th>\n",
       "      <td>[zawhtutwin, watching, cartoon, and, cry, oh, ...</td>\n",
       "    </tr>\n",
       "    <tr>\n",
       "      <th>1279996</th>\n",
       "      <td>[is, eating, mcdonalds]</td>\n",
       "    </tr>\n",
       "    <tr>\n",
       "      <th>1279997</th>\n",
       "      <td>[bestsoylatte, so, sorry, to, hear, about, you...</td>\n",
       "    </tr>\n",
       "    <tr>\n",
       "      <th>1279998</th>\n",
       "      <td>[leesherry, you, have, done, what, you, could,...</td>\n",
       "    </tr>\n",
       "    <tr>\n",
       "      <th>1279999</th>\n",
       "      <td>[should, sleepin, hate, ams]</td>\n",
       "    </tr>\n",
       "  </tbody>\n",
       "</table>\n",
       "<p>1280000 rows × 1 columns</p>\n",
       "</div>"
      ],
      "text/plain": [
       "                                                      text\n",
       "0                                         [brokenpromises]\n",
       "1        [david, carradine, so, sad, thais, law, not, s...\n",
       "2                         [tell, your, bro, say, congrats]\n",
       "3                                [littlefluffycat, indeed]\n",
       "4        [completed, race, life, in, mins, with, girlie...\n",
       "...                                                    ...\n",
       "1279995  [zawhtutwin, watching, cartoon, and, cry, oh, ...\n",
       "1279996                            [is, eating, mcdonalds]\n",
       "1279997  [bestsoylatte, so, sorry, to, hear, about, you...\n",
       "1279998  [leesherry, you, have, done, what, you, could,...\n",
       "1279999                       [should, sleepin, hate, ams]\n",
       "\n",
       "[1280000 rows x 1 columns]"
      ]
     },
     "metadata": {
      "tags": []
     },
     "output_type": "display_data"
    }
   ],
   "source": [
    "X['text'] = [simple_preprocess(line, deacc=True) for line in X['text']] \n",
    "\n",
    "display(X)"
   ]
  },
  {
   "cell_type": "markdown",
   "metadata": {
    "id": "dpUh2I9Dp6pR"
   },
   "source": [
    "### Lemmatization."
   ]
  },
  {
   "cell_type": "code",
   "execution_count": null,
   "metadata": {
    "colab": {
     "base_uri": "https://localhost:8080/"
    },
    "executionInfo": {
     "elapsed": 117735,
     "status": "ok",
     "timestamp": 1606163226922,
     "user": {
      "displayName": "Σπύρος Μπριάκος",
      "photoUrl": "https://lh3.googleusercontent.com/a-/AOh14GjNL6_AeJ04NmNTaMqHmM_937BV9V7KYBr1Gkx9_g=s64",
      "userId": "14497433372697123826"
     },
     "user_tz": -120
    },
    "id": "dEOu5PyBqHXa",
    "outputId": "29e0b697-f2e4-4d6e-ad34-b0e4a6557ec7"
   },
   "outputs": [
    {
     "data": {
      "text/html": [
       "<div>\n",
       "<style scoped>\n",
       "    .dataframe tbody tr th:only-of-type {\n",
       "        vertical-align: middle;\n",
       "    }\n",
       "\n",
       "    .dataframe tbody tr th {\n",
       "        vertical-align: top;\n",
       "    }\n",
       "\n",
       "    .dataframe thead th {\n",
       "        text-align: right;\n",
       "    }\n",
       "</style>\n",
       "<table border=\"1\" class=\"dataframe\">\n",
       "  <thead>\n",
       "    <tr style=\"text-align: right;\">\n",
       "      <th></th>\n",
       "      <th>text</th>\n",
       "    </tr>\n",
       "  </thead>\n",
       "  <tbody>\n",
       "    <tr>\n",
       "      <th>0</th>\n",
       "      <td>brokenpromises</td>\n",
       "    </tr>\n",
       "    <tr>\n",
       "      <th>1</th>\n",
       "      <td>david carradine so sad thais law not sure if i...</td>\n",
       "    </tr>\n",
       "    <tr>\n",
       "      <th>2</th>\n",
       "      <td>tell your bro say congrats</td>\n",
       "    </tr>\n",
       "    <tr>\n",
       "      <th>3</th>\n",
       "      <td>littlefluffycat indeed</td>\n",
       "    </tr>\n",
       "    <tr>\n",
       "      <th>4</th>\n",
       "      <td>complete race life in mins with girlies from w...</td>\n",
       "    </tr>\n",
       "    <tr>\n",
       "      <th>...</th>\n",
       "      <td>...</td>\n",
       "    </tr>\n",
       "    <tr>\n",
       "      <th>1279995</th>\n",
       "      <td>zawhtutwin watch cartoon and cry oh do that al...</td>\n",
       "    </tr>\n",
       "    <tr>\n",
       "      <th>1279996</th>\n",
       "      <td>be eat mcdonalds</td>\n",
       "    </tr>\n",
       "    <tr>\n",
       "      <th>1279997</th>\n",
       "      <td>bestsoylatte so sorry to hear about your carth...</td>\n",
       "    </tr>\n",
       "    <tr>\n",
       "      <th>1279998</th>\n",
       "      <td>leesherry you have do what you could forgivene...</td>\n",
       "    </tr>\n",
       "    <tr>\n",
       "      <th>1279999</th>\n",
       "      <td>should sleepin hate ams</td>\n",
       "    </tr>\n",
       "  </tbody>\n",
       "</table>\n",
       "<p>1280000 rows × 1 columns</p>\n",
       "</div>"
      ],
      "text/plain": [
       "                                                      text\n",
       "0                                           brokenpromises\n",
       "1        david carradine so sad thais law not sure if i...\n",
       "2                               tell your bro say congrats\n",
       "3                                   littlefluffycat indeed\n",
       "4        complete race life in mins with girlies from w...\n",
       "...                                                    ...\n",
       "1279995  zawhtutwin watch cartoon and cry oh do that al...\n",
       "1279996                                   be eat mcdonalds\n",
       "1279997  bestsoylatte so sorry to hear about your carth...\n",
       "1279998  leesherry you have do what you could forgivene...\n",
       "1279999                            should sleepin hate ams\n",
       "\n",
       "[1280000 rows x 1 columns]"
      ]
     },
     "metadata": {
      "tags": []
     },
     "output_type": "display_data"
    }
   ],
   "source": [
    "lemmatizer = nltk.stem.WordNetLemmatizer()\n",
    "\n",
    "def lemmatize_text(text):\n",
    "    return \" \".join([lemmatizer.lemmatize(w, pos=\"v\") for w in text])\n",
    "\n",
    "X['text'] = X['text'].apply(lemmatize_text).copy()\n",
    "\n",
    "display(X)"
   ]
  },
  {
   "cell_type": "markdown",
   "metadata": {
    "id": "cqhlchE5YYd3"
   },
   "source": [
    "### Split dataset to train,validation and test dataset.\n"
   ]
  },
  {
   "cell_type": "code",
   "execution_count": null,
   "metadata": {
    "colab": {
     "base_uri": "https://localhost:8080/"
    },
    "executionInfo": {
     "elapsed": 118874,
     "status": "ok",
     "timestamp": 1606163228068,
     "user": {
      "displayName": "Σπύρος Μπριάκος",
      "photoUrl": "https://lh3.googleusercontent.com/a-/AOh14GjNL6_AeJ04NmNTaMqHmM_937BV9V7KYBr1Gkx9_g=s64",
      "userId": "14497433372697123826"
     },
     "user_tz": -120
    },
    "id": "niug5R0UYbgX",
    "outputId": "f2c5ccaa-e6ce-4603-8850-72f3056d3d3e"
   },
   "outputs": [
    {
     "name": "stdout",
     "output_type": "stream",
     "text": [
      "X_train's shape: (1267232, 1)\n",
      "Y_train's shape: (1267232, 1)\n",
      "X_val's shape: (6368, 1)\n",
      "Y_val's shape: (6368, 1)\n",
      "X_test's shape: (6400, 1)\n",
      "Y_test's shape: (6400, 1)\n"
     ]
    }
   ],
   "source": [
    "# Split dataset to train and test set.\n",
    "X_train, X_test, Y_train, Y_test = train_test_split(X,Y,test_size=0.005,random_state=42)\n",
    "\n",
    "# Split train dataset to train and validation set.\n",
    "X_train, X_val, Y_train, Y_val = train_test_split(X_train, Y_train, test_size=0.005,random_state=42)\n",
    "\n",
    "print(\"X_train's shape:\", X_train.shape)\n",
    "print(\"Y_train's shape:\", Y_train.shape)\n",
    "print(\"X_val's shape:\", X_val.shape)\n",
    "print(\"Y_val's shape:\", Y_val.shape)\n",
    "print(\"X_test's shape:\", X_test.shape)\n",
    "print(\"Y_test's shape:\", Y_test.shape)"
   ]
  },
  {
   "cell_type": "markdown",
   "metadata": {
    "id": "Vf4TdSbiHs8u"
   },
   "source": [
    ">We choosed to split dataset 99%-1% (train and test set), cause our dataset is too large. \n"
   ]
  },
  {
   "cell_type": "markdown",
   "metadata": {
    "id": "eM84BI745EJ9"
   },
   "source": [
    "## Vectorization."
   ]
  },
  {
   "cell_type": "markdown",
   "metadata": {
    "id": "cgFxINTb2VkV"
   },
   "source": [
    "### Vectorization with use of pre-trained model GloVe."
   ]
  },
  {
   "cell_type": "markdown",
   "metadata": {
    "id": "qKQh7_hq2nrq"
   },
   "source": [
    "#### Use pre-trained model GloVe so as to create glove dictionary (and save it, cause take a lot of time and memory)."
   ]
  },
  {
   "cell_type": "code",
   "execution_count": null,
   "metadata": {
    "id": "tUbzgzZ62e87"
   },
   "outputs": [],
   "source": [
    "# vectors = []\n",
    "# words = []\n",
    "# word2id = {}\n",
    "# id=0\n",
    "# with open('/content/drive/My Drive/AI(II)/glove_models/glove.6B.50d.txt', 'rb') as f:\n",
    "#   for l in f:\n",
    "#     line = l.decode().split()\n",
    "#     word = line[0]\n",
    "#     words.append(word)\n",
    "#     word2id[word] = id\n",
    "#     id += 1\n",
    "#     vec = np.array(line[1:]).astype(np.float)\n",
    "#     vectors.append(vec)\n",
    "\n",
    "# # Create dictionary glove.\n",
    "# glove_dict = {w: vectors[word2id[w]] for w in words}\n",
    "\n",
    "# # Save dictionary glove.\n",
    "# glove_file = open('/content/drive/My Drive/AI(II)/glove_dicts/glove_dict_50.pkl', 'wb')\n",
    "# pickle.dump(glove_dict,glove_file)\n",
    "# glove_file.close()"
   ]
  },
  {
   "cell_type": "markdown",
   "metadata": {
    "id": "SrLQp5633Jud"
   },
   "source": [
    "#### GloVe Vectorization."
   ]
  },
  {
   "cell_type": "code",
   "execution_count": null,
   "metadata": {
    "colab": {
     "base_uri": "https://localhost:8080/"
    },
    "executionInfo": {
     "elapsed": 156012,
     "status": "ok",
     "timestamp": 1606163265221,
     "user": {
      "displayName": "Σπύρος Μπριάκος",
      "photoUrl": "https://lh3.googleusercontent.com/a-/AOh14GjNL6_AeJ04NmNTaMqHmM_937BV9V7KYBr1Gkx9_g=s64",
      "userId": "14497433372697123826"
     },
     "user_tz": -120
    },
    "id": "uORjRGlX7MFc",
    "outputId": "7917157b-764e-423f-c6e0-e350fdcbb651"
   },
   "outputs": [
    {
     "name": "stdout",
     "output_type": "stream",
     "text": [
      "Ratios of words found: 0.92 0.92 0.92\n",
      "glove_X_train's shape: (1267232, 50)\n",
      "glove_X_val's shape: (6368, 50)\n",
      "glove_X_test's shape: (6400, 50)\n"
     ]
    }
   ],
   "source": [
    "# Implementation of function which vectorizes via GloVe pre-trained model.\n",
    "def glove_vec(dataset):\n",
    "\n",
    "  # Load dictionary glove.\n",
    "  glove_file = open('/content/drive/My Drive/AI(II)/glove_dicts/glove_dict_50.pkl', 'rb')\n",
    "  glove = pickle.load(glove_file)\n",
    "  \n",
    "  # Define important variables.\n",
    "  dims = len(glove['and'])\n",
    "  words=0\n",
    "  words_found=0\n",
    "  mean_tweets = []\n",
    "\n",
    "  # Iterate for each tweet of dataset\n",
    "  for index,tweet in enumerate(dataset['text']):\n",
    "\n",
    "    # Split tweet into words\n",
    "    words_of_tweet = str(tweet).split(' ')\n",
    "\n",
    "    # Define empty list of mean vector of each tweet.\n",
    "    vectors_of_tweet = np.zeros((len(words_of_tweet),dims))\n",
    "\n",
    "    # Iterate through all words of each tweet.\n",
    "    for j,word in enumerate(words_of_tweet):\n",
    "      words += 1\n",
    "\n",
    "      # If word is inside glove dictionary obtain vector.\n",
    "      if word in glove:\n",
    "        vectors_of_tweet[j] = glove[word]\n",
    "        words_found += 1\n",
    "    \n",
    "    # Add to mean_tweets mean vector of each tweet.\n",
    "    mean_tweets.append(np.mean(vectors_of_tweet,axis=0))\n",
    "\n",
    "  glove_file.close()\n",
    "\n",
    "  return np.array(mean_tweets),round((words_found/words),2)\n",
    "\n",
    "# Vectorize X_train dataset with glove_vec().\n",
    "glove_X_train,ratio1 = glove_vec(pd.DataFrame(X_train))\n",
    "\n",
    "# Vectorize X_val dataset with glove_vec().\n",
    "glove_X_val,ratio2 = glove_vec(pd.DataFrame(X_val))\n",
    "\n",
    "# Vectorize X_test dataset with glove_vec().\n",
    "glove_X_test,ratio3 = glove_vec(pd.DataFrame(X_test))\n",
    "\n",
    "print(\"Ratios of words found:\",ratio1,ratio2,ratio3)\n",
    "print(\"glove_X_train's shape:\",glove_X_train.shape)\n",
    "print(\"glove_X_val's shape:\",glove_X_val.shape)\n",
    "print(\"glove_X_test's shape:\",glove_X_test.shape)"
   ]
  },
  {
   "cell_type": "markdown",
   "metadata": {
    "id": "cs9Pz-iJOVdc"
   },
   "source": [
    "#### Convert glove_X datasets to tensors with help of library PyTorch.\n"
   ]
  },
  {
   "cell_type": "code",
   "execution_count": null,
   "metadata": {
    "colab": {
     "base_uri": "https://localhost:8080/"
    },
    "executionInfo": {
     "elapsed": 156006,
     "status": "ok",
     "timestamp": 1606163265222,
     "user": {
      "displayName": "Σπύρος Μπριάκος",
      "photoUrl": "https://lh3.googleusercontent.com/a-/AOh14GjNL6_AeJ04NmNTaMqHmM_937BV9V7KYBr1Gkx9_g=s64",
      "userId": "14497433372697123826"
     },
     "user_tz": -120
    },
    "id": "a3FdqN5SO4aZ",
    "outputId": "f7dfd264-f18e-47ce-f781-56d69aef5dbc"
   },
   "outputs": [
    {
     "name": "stdout",
     "output_type": "stream",
     "text": [
      "glove_X_train's shape: torch.Size([1267232, 50])\n",
      "glove_X_val's shape: torch.Size([6368, 50])\n",
      "glove_X_test's shape: torch.Size([6400, 50])\n"
     ]
    }
   ],
   "source": [
    "# Convert X datasets to tensors with function convert_to_tensor.\n",
    "glove_X_train = torch.tensor(glove_X_train)\n",
    "glove_X_val = torch.tensor(glove_X_val)\n",
    "glove_X_test = torch.tensor(glove_X_test)\n",
    "\n",
    "print(\"glove_X_train's shape:\", glove_X_train.shape)\n",
    "print(\"glove_X_val's shape:\", glove_X_val.shape)\n",
    "print(\"glove_X_test's shape:\", glove_X_test.shape)"
   ]
  },
  {
   "cell_type": "markdown",
   "metadata": {
    "id": "HnfDAz8hUhTk"
   },
   "source": [
    "\n",
    "### Convert Y datasets (labels) to tensors with help of library PyTorch."
   ]
  },
  {
   "cell_type": "code",
   "execution_count": null,
   "metadata": {
    "colab": {
     "base_uri": "https://localhost:8080/"
    },
    "executionInfo": {
     "elapsed": 155999,
     "status": "ok",
     "timestamp": 1606163265223,
     "user": {
      "displayName": "Σπύρος Μπριάκος",
      "photoUrl": "https://lh3.googleusercontent.com/a-/AOh14GjNL6_AeJ04NmNTaMqHmM_937BV9V7KYBr1Gkx9_g=s64",
      "userId": "14497433372697123826"
     },
     "user_tz": -120
    },
    "id": "TR60G59AUoHm",
    "outputId": "edf90756-dffe-4504-974b-19f5ca7e9354"
   },
   "outputs": [
    {
     "name": "stdout",
     "output_type": "stream",
     "text": [
      "Y_train's shape: torch.Size([1267232])\n",
      "Y_val's shape: torch.Size([6368])\n",
      "Y_test's shape: torch.Size([6400])\n"
     ]
    }
   ],
   "source": [
    "# Convert Y labels to tensors with torch.squeeze.\n",
    "Y_train = torch.squeeze(torch.from_numpy(Y_train.to_numpy()).float())\n",
    "Y_val = torch.squeeze(torch.from_numpy(Y_val.to_numpy()).float())\n",
    "Y_test = torch.squeeze(torch.from_numpy(Y_test.to_numpy()).float())\n",
    "\n",
    "print(\"Y_train's shape:\", Y_train.shape)\n",
    "print(\"Y_val's shape:\", Y_val.shape)\n",
    "print(\"Y_test's shape:\", Y_test.shape)"
   ]
  },
  {
   "cell_type": "markdown",
   "metadata": {
    "id": "Dn1RbgpKmI-L"
   },
   "source": [
    "## Prepare GPU Cuda."
   ]
  },
  {
   "cell_type": "markdown",
   "metadata": {
    "id": "7tkj1bw37JCS"
   },
   "source": [
    "### Initial step with PyTorch, check if gpu cuda is available."
   ]
  },
  {
   "cell_type": "code",
   "execution_count": null,
   "metadata": {
    "colab": {
     "base_uri": "https://localhost:8080/"
    },
    "executionInfo": {
     "elapsed": 155990,
     "status": "ok",
     "timestamp": 1606163265223,
     "user": {
      "displayName": "Σπύρος Μπριάκος",
      "photoUrl": "https://lh3.googleusercontent.com/a-/AOh14GjNL6_AeJ04NmNTaMqHmM_937BV9V7KYBr1Gkx9_g=s64",
      "userId": "14497433372697123826"
     },
     "user_tz": -120
    },
    "id": "32nx5KUx7LVb",
    "outputId": "e5a9e336-dc32-4994-f263-b9627bb04210"
   },
   "outputs": [
    {
     "name": "stdout",
     "output_type": "stream",
     "text": [
      "Device available for running: \n",
      "cpu\n"
     ]
    }
   ],
   "source": [
    "device = torch.device(\"cuda\" if torch.cuda.is_available() else \"cpu\")\n",
    "print(\"Device available for running: \")\n",
    "print(device)"
   ]
  },
  {
   "cell_type": "markdown",
   "metadata": {
    "id": "uMP6YyvF8zhl"
   },
   "source": [
    "### Transfer all the computation to GPU (cuda device).\n"
   ]
  },
  {
   "cell_type": "code",
   "execution_count": null,
   "metadata": {
    "id": "n-hrLrYfUqby"
   },
   "outputs": [],
   "source": [
    "glove_X_train = glove_X_train.to(device)\n",
    "glove_X_val = glove_X_val.to(device)\n",
    "glove_X_test = glove_X_test.to(device)\n",
    "\n",
    "Y_train = Y_train.to(device)\n",
    "Y_val = Y_val.to(device)\n",
    "Y_test = Y_test.to(device)"
   ]
  },
  {
   "cell_type": "markdown",
   "metadata": {
    "id": "eA52FzR_KkKJ"
   },
   "source": [
    "## Implementation of function, which is gonna train our model."
   ]
  },
  {
   "cell_type": "code",
   "execution_count": null,
   "metadata": {
    "id": "3MQcX78DKuLi"
   },
   "outputs": [],
   "source": [
    "def calculate_accuracy(y_true, y_pred):  \n",
    "  y_pred = torch.round(y_pred)\n",
    "  correct = (y_true == y_pred).float() \n",
    "  acc = correct.sum() / len(correct)\n",
    "  return acc\n",
    "\n",
    "def train_model(model,criterion,optimizer,x_train,x_val,y_train,y_val,epochs=1000,batch_size=10000):\n",
    "\n",
    "  # Declare empty lists.\n",
    "  train_losses = []\n",
    "  train_accs = []\n",
    "  val_losses = []\n",
    "  val_accs = []\n",
    "\n",
    "  # Split train dataset to mini batches\n",
    "  X_train_mini_batches = torch.split(x_train,batch_size)\n",
    "  Y_train_mini_batches = torch.split(y_train,batch_size)\n",
    "\n",
    "  # Start training\n",
    "  for epoch in range(epochs):\n",
    "    \n",
    "    # Clear previous values of variables.\n",
    "    epoch_loss = 0\n",
    "    epoch_acc = 0\n",
    "    validation_loss = 0\n",
    "    val_acc = 0\n",
    "\n",
    "    for X_train_mini_batch,Y_train_mini_batch in zip(X_train_mini_batches,Y_train_mini_batches):\n",
    "\n",
    "      # Forward pass to get output.\n",
    "      train_pred = model.forward(X_train_mini_batch.float())\n",
    "      train_pred = torch.squeeze(train_pred)\n",
    "      \n",
    "      # Calculate Loss.\n",
    "      train_loss = criterion(train_pred,Y_train_mini_batch)\n",
    "      \n",
    "      # Clearing up accumulated gradients.\n",
    "      optimizer.zero_grad()\n",
    "      \n",
    "      # Getting gradients w.r.t. parameters.\n",
    "      train_loss.backward()\n",
    "\n",
    "      # Updating parameters.\n",
    "      optimizer.step()\n",
    "\n",
    "      # Add each mini batch's loss.\n",
    "      epoch_loss += train_loss.item()\n",
    "\n",
    "      # Add each mini batch's accuracy.\n",
    "      epoch_acc += calculate_accuracy(Y_train_mini_batch,train_pred)\n",
    "\n",
    "    # For each epoch test our model on validation set.\n",
    "    val_pred = model.forward(x_val.float())\n",
    "    val_pred = torch.squeeze(val_pred)\n",
    "      \n",
    "    # Calculate Loss\n",
    "    val_loss = criterion(val_pred,y_val) \n",
    "\n",
    "    # Calculate val's loss\n",
    "    validation_loss = val_loss.item()\n",
    "\n",
    "    # Calculate val's accuracy\n",
    "    val_acc = calculate_accuracy(y_val,val_pred)\n",
    "\n",
    "    # Calculate mean loss and mean accuracy for train data.\n",
    "    epoch_loss /= len(X_train_mini_batches)\n",
    "    epoch_acc /= len(X_train_mini_batches)\n",
    "    \n",
    "    # Add them to appropriate lists so as to return them.\n",
    "    val_losses.append(validation_loss)\n",
    "    val_accs.append(val_acc)\n",
    "    train_losses.append(epoch_loss)\n",
    "    train_accs.append(epoch_acc)\n",
    "\n",
    "  return train_losses,val_losses,train_accs,val_accs"
   ]
  },
  {
   "cell_type": "markdown",
   "metadata": {
    "id": "3T3lTjMTVae_"
   },
   "source": [
    "## First Neural Network Model."
   ]
  },
  {
   "cell_type": "markdown",
   "metadata": {
    "id": "9hUutlkF0pfk"
   },
   "source": [
    "### Implementation of class FirstModel, which is our first Neural Network."
   ]
  },
  {
   "cell_type": "code",
   "execution_count": null,
   "metadata": {
    "id": "FFEnY2iQMXHg"
   },
   "outputs": [],
   "source": [
    "class FirstModel(nn.Module):\n",
    "    \n",
    "  def __init__(self,input_dim,hidden_dim1,hidden_dim2):\n",
    "    super(FirstModel, self).__init__()     \n",
    "    \n",
    "    self.relu = nn.ReLU()\n",
    "    \n",
    "    self.layer1 = nn.Linear(input_dim, hidden_dim1) \n",
    "    self.layer2 = nn.Linear(hidden_dim1, hidden_dim2) \n",
    "    self.layer3 = nn.Linear(hidden_dim2, 1) \n",
    "  \n",
    "  def forward(self, x):\n",
    "\n",
    "    # Layer 1\n",
    "    out = self.relu(self.layer1(x))\n",
    " \n",
    "    # Layer 2\n",
    "    out = self.relu(self.layer2(out))\n",
    "\n",
    "    # Layer 3\n",
    "    out = torch.sigmoid(self.layer3(out))\n",
    "\n",
    "    return out \n",
    "\n",
    "  def evaluate(self,x_test,y_test,report=False):\n",
    "\n",
    "    # Forward pass to get predictions.\n",
    "    test_pred = self.forward(x_test.float())\n",
    "    test_pred = torch.squeeze(test_pred)\n",
    "    \n",
    "    # Score by manually implemented calculate accuracy\n",
    "    test_acc = round(calculate_accuracy(y_test,test_pred).item(),2)\n",
    "\n",
    "    # Classification report\n",
    "    if report==True:\n",
    "      test_pred = test_pred.ge(.5).view(-1).cpu()\n",
    "      y_test = Y_test.cpu()\n",
    "      print(classification_report(y_test,test_pred))\n",
    "\n",
    "    return test_acc  "
   ]
  },
  {
   "cell_type": "markdown",
   "metadata": {
    "id": "9c918KHdm5oY"
   },
   "source": [
    "### Prepare our first non deep feed forward neural network model."
   ]
  },
  {
   "cell_type": "code",
   "execution_count": null,
   "metadata": {
    "id": "5TL4BrX1o0tj"
   },
   "outputs": [],
   "source": [
    "input_units = glove_X_train.shape[1]\n",
    "hidden_units1 = 64\n",
    "hidden_units2 = 16\n",
    "learning_rate = 1e-4\n",
    "w_decay = 1e-4\n",
    "\n",
    "# Define our first feed forward neural network with glove vectorized input dataset.\n",
    "glove_first_model = FirstModel(input_units,hidden_units1,hidden_units2)\n",
    "\n",
    "# Define loss function.\n",
    "criterion = nn.BCELoss()\n",
    "\n",
    "# Define as optimizer Adam.\n",
    "optimizer = optim.Adam(glove_first_model.parameters(),lr=learning_rate,weight_decay=w_decay)\n",
    "\n",
    "# Transfer all the computation to GPU (cuda device).\n",
    "glove_first_model.to(device)\n",
    "criterion = criterion.to(device)"
   ]
  },
  {
   "cell_type": "markdown",
   "metadata": {
    "id": "8Whbff5yBA-5"
   },
   "source": [
    "### Train our first model with GloVe vectorized input."
   ]
  },
  {
   "cell_type": "code",
   "execution_count": null,
   "metadata": {
    "id": "5vhG4fv6BEjR"
   },
   "outputs": [],
   "source": [
    "# Call train_model with appropriate args and store into lists losses and accuracies.\n",
    "glove_train_losses,glove_val_losses,glove_train_accs,glove_val_accs = train_model(glove_first_model,criterion,optimizer,glove_X_train,glove_X_val,Y_train,Y_val,epochs=100,batch_size=10000)"
   ]
  },
  {
   "cell_type": "markdown",
   "metadata": {
    "id": "qW8eSO8f9kto"
   },
   "source": [
    "### Let's check what happened in training on first GloVe model.\n"
   ]
  },
  {
   "cell_type": "code",
   "execution_count": null,
   "metadata": {
    "colab": {
     "base_uri": "https://localhost:8080/",
     "height": 639
    },
    "executionInfo": {
     "elapsed": 2162,
     "status": "ok",
     "timestamp": 1606163430952,
     "user": {
      "displayName": "Σπύρος Μπριάκος",
      "photoUrl": "https://lh3.googleusercontent.com/a-/AOh14GjNL6_AeJ04NmNTaMqHmM_937BV9V7KYBr1Gkx9_g=s64",
      "userId": "14497433372697123826"
     },
     "user_tz": -120
    },
    "id": "jixE_nRx9j-H",
    "outputId": "e48407fd-9417-4e82-a60a-ba5302e7bf55"
   },
   "outputs": [
    {
     "data": {
      "image/png": "[encoded data removed]",
      "text/plain": [
       "<Figure size 2160x720 with 2 Axes>"
      ]
     },
     "metadata": {
      "needs_background": "light",
      "tags": []
     },
     "output_type": "display_data"
    }
   ],
   "source": [
    "fig,axs = plt.subplots(1,2,figsize=(30,10))\n",
    "\n",
    "early_stopping = 55\n",
    "\n",
    "# Plot Train and Validation Losses with GloVe vectorization.\n",
    "axs[0].set_title(\"Train and Validation Losses (GloVe)\",size=25)\n",
    "axs[0].set_ylabel('Loss', fontsize = 20.0) \n",
    "axs[0].set_xlabel('Epochs', fontsize = 20) \n",
    "_=axs[0].plot(glove_train_losses,'-c')\n",
    "_=axs[0].plot(glove_val_losses,'-m')\n",
    "_=axs[0].axvline(x=early_stopping,color='r')\n",
    "_=axs[0].legend(('Train','Val'),loc='upper right',fontsize='x-large')\n",
    "\n",
    "# Plot Train and Validation Accuracies with GloVe vectorization.\n",
    "axs[1].set_title(\"Train and Validation Accuracies (GloVe)\",size=25)\n",
    "axs[1].set_ylabel('Loss', fontsize = 20.0) \n",
    "axs[1].set_xlabel('Epochs', fontsize = 20) \n",
    "_=axs[1].plot(glove_train_accs,'-c')\n",
    "_=axs[1].plot(glove_val_accs,'-m')\n",
    "_=axs[1].axvline(x=early_stopping,color='r')\n",
    "_=axs[1].legend(('Train','Val'),loc='upper right',fontsize='x-large')"
   ]
  },
  {
   "cell_type": "markdown",
   "metadata": {
    "id": "A4NWktTI0C8X"
   },
   "source": [
    "> As we can observe from learning curves GloVe model has a good fit until approximately epoch=55. After epoch=55 val loss starts rising up and be greater than train loss, so this is the point when overfitting has begun. So with the technique of early stopping we can stop training at this point in order to avoid overfitting."
   ]
  },
  {
   "cell_type": "markdown",
   "metadata": {
    "id": "BBja8d5f7eUa"
   },
   "source": [
    "### Evaluation of our first model with classification report and with manually implemented calculate_accuracy() function."
   ]
  },
  {
   "cell_type": "code",
   "execution_count": null,
   "metadata": {
    "colab": {
     "base_uri": "https://localhost:8080/"
    },
    "executionInfo": {
     "elapsed": 1079,
     "status": "ok",
     "timestamp": 1606163529438,
     "user": {
      "displayName": "Σπύρος Μπριάκος",
      "photoUrl": "https://lh3.googleusercontent.com/a-/AOh14GjNL6_AeJ04NmNTaMqHmM_937BV9V7KYBr1Gkx9_g=s64",
      "userId": "14497433372697123826"
     },
     "user_tz": -120
    },
    "id": "p7qsF2m87hdk",
    "outputId": "49594f71-e562-4e5c-9b8f-c22ae9d4c774"
   },
   "outputs": [
    {
     "name": "stdout",
     "output_type": "stream",
     "text": [
      "              precision    recall  f1-score   support\n",
      "\n",
      "         0.0       0.71      0.69      0.70      3240\n",
      "         1.0       0.69      0.71      0.70      3160\n",
      "\n",
      "    accuracy                           0.70      6400\n",
      "   macro avg       0.70      0.70      0.70      6400\n",
      "weighted avg       0.70      0.70      0.70      6400\n",
      "\n",
      "GloVe Model Test's Accuracy: 0.7\n"
     ]
    }
   ],
   "source": [
    "print(\"GloVe Model Test's Accuracy:\",glove_first_model.evaluate(glove_X_test,Y_test,True))"
   ]
  },
  {
   "cell_type": "markdown",
   "metadata": {
    "id": "hhwuIQIp3J9v"
   },
   "source": [
    "### General Notes about our GloVe NN model."
   ]
  },
  {
   "cell_type": "markdown",
   "metadata": {
    "id": "3PJgFb9czsD8"
   },
   "source": [
    "> Our Neural Network Model has the above structure:\n",
    "\n",
    "> input dimensions (Relu) -> 64 (Relu) -> 16 (Sigmoid) -> 1\n",
    "\n",
    "> For input of NN we manually vectorized each word from each tweet (with help of GloVe pre-trained model) and calculate mean vector of each tweet (50 dimensions). In that way we could load whole dataset and our model trained really quickly, due to small number of dimensions,50."
   ]
  },
  {
   "cell_type": "markdown",
   "metadata": {
    "id": "fQrx6Xwq3SfM"
   },
   "source": [
    "### Experiment's Conclusions."
   ]
  },
  {
   "cell_type": "markdown",
   "metadata": {
    "id": "-irJWG3K3ZRn"
   },
   "source": [
    "> After many experiments with our model we observe that in order to avoid overfitting we had to choose a simplier model architecture, so we tried non deep NN model with 1 and 2 hidden layers. But seemed that model with 1 hidden layer underfitted so we choose 2 hidden layers.\n",
    "\n",
    "> After studying and reading in articles and books with topic 'Machine Learning' and 'Deep Learning', out there everybody for binary classification problems recommends as criterion Binary Cross Entropy Loss and as optimizer with descent performance Adam. I can confirm these thoughts cause other criterions and optimizers didn't perform well.\n",
    "\n",
    "> After that we randomly found the appropriate learning rate, which is the most significant parameter, so as to have a good fit. \n",
    "\n",
    "> The weight decay parameter adds a L2 penalty to the cost which can effectively lead to to smaller model weights. This helped us a lot with tackling overfitting.\n",
    "\n",
    "> We set batch size to default 10.000, cause we have a huge dataset so as to run our model much faster.\n",
    "\n",
    "> We experimented a lot with number of hidden units and finally ended up to 64 and 16 respectively. We prefer hidden units to be 2^k in order to help memory management of our computer.\n",
    "\n",
    "\n"
   ]
  }
 ],
 "metadata": {
  "colab": {
   "authorship_tag": "ABX9TyO/AppynGd2G1NiYobxSwJG",
   "collapsed_sections": [],
   "name": "GloVe_Model.ipynb",
   "provenance": []
  },
  "kernelspec": {
   "display_name": "Python 3",
   "language": "python",
   "name": "python3"
  },
  "language_info": {
   "codemirror_mode": {
    "name": "ipython",
    "version": 3
   },
   "file_extension": ".py",
   "mimetype": "text/x-python",
   "name": "python",
   "nbconvert_exporter": "python",
   "pygments_lexer": "ipython3",
   "version": "3.7.6"
  }
 },
 "nbformat": 4,
 "nbformat_minor": 1
}
