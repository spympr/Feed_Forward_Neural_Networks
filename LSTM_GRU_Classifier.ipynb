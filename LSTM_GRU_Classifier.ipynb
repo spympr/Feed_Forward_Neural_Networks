{
 "cells": [
  {
   "cell_type": "markdown",
   "metadata": {
    "id": "1SlelRhAZjE5"
   },
   "source": [
    "# LSTM/GRU_Classifier"
   ]
  },
  {
   "cell_type": "markdown",
   "metadata": {
    "id": "lcpDZK6njYN9"
   },
   "source": [
    "## Import useful libraries."
   ]
  },
  {
   "cell_type": "code",
   "execution_count": null,
   "metadata": {
    "colab": {
     "base_uri": "https://localhost:8080/"
    },
    "id": "tZbypE894o-C",
    "outputId": "f809b3d3-c594-4756-9239-c1f2bfe9c810"
   },
   "outputs": [
    {
     "name": "stdout",
     "output_type": "stream",
     "text": [
      "Drive already mounted at /content/drive/; to attempt to forcibly remount, call drive.mount(\"/content/drive/\", force_remount=True).\n"
     ]
    }
   ],
   "source": [
    "import pandas as pd\n",
    "import numpy as np\n",
    "import matplotlib.pyplot as plt \n",
    "import string\n",
    "import re\n",
    "import nltk\n",
    "import pickle\n",
    "import time\n",
    "import torch\n",
    "import torchtext\n",
    "import torch.nn as nn\n",
    "import torch.nn.functional as F\n",
    "import torch.optim as optim\n",
    "\n",
    "from gensim.utils import simple_preprocess\n",
    "from gensim import corpora\n",
    "from sklearn.model_selection import train_test_split\n",
    "from sklearn.linear_model import LogisticRegression \n",
    "from sklearn.feature_extraction.text import TfidfVectorizer,CountVectorizer\n",
    "from sklearn.metrics import recall_score,f1_score,precision_score,classification_report,roc_curve,auc\n",
    "from sklearn.preprocessing import label_binarize\n",
    "from sklearn.model_selection import cross_val_score\n",
    "from torchtext import data\n",
    "from google.colab import drive\n",
    "drive.mount('/content/drive/')"
   ]
  },
  {
   "cell_type": "markdown",
   "metadata": {
    "id": "s4O3_rlbYX_D"
   },
   "source": [
    "## Load Prepared-Cleaned Datasets."
   ]
  },
  {
   "cell_type": "code",
   "execution_count": null,
   "metadata": {
    "colab": {
     "base_uri": "https://localhost:8080/"
    },
    "id": "shD-jQ8LLSaM",
    "outputId": "873e3271-a7ea-4d28-c9bf-79ee75389084"
   },
   "outputs": [
    {
     "name": "stdout",
     "output_type": "stream",
     "text": [
      "X_train's shape: (495012, 1)\n",
      "X_val's shape: (2488, 1)\n",
      "X_test's shape: (2500, 1) \n",
      "\n",
      "Y_train's shape: (495012, 1)\n",
      "Y_val's shape: (2488, 1)\n",
      "Y_test's shape: (2500, 1)\n"
     ]
    }
   ],
   "source": [
    "# Load GloVe vectorized Χ_train.\n",
    "x_train_file = open('/content/drive/My Drive/AI(II)/prepared_datasets/X_train.pkl', 'rb')\n",
    "X_train = pickle.load(x_train_file)\n",
    "x_train_file.close()\n",
    "  \n",
    "# Load GloVe vectorized Χ_val.\n",
    "x_val_file = open('/content/drive/My Drive/AI(II)/prepared_datasets/X_val.pkl', 'rb')\n",
    "X_val = pickle.load(x_val_file)\n",
    "x_val_file.close()\n",
    "\n",
    "# Load GloVe vectorized Χ_test.\n",
    "x_test_file = open('/content/drive/My Drive/AI(II)/prepared_datasets/X_test.pkl', 'rb')\n",
    "X_test = pickle.load(x_test_file)\n",
    "x_test_file.close()\n",
    "\n",
    "# Load Y_train.\n",
    "y_train_file = open('/content/drive/My Drive/AI(II)/prepared_datasets/Y_train.pkl', 'rb')\n",
    "Y_train = pickle.load(y_train_file)\n",
    "y_train_file.close()\n",
    "\n",
    "# Load Y_val.\n",
    "y_val_file = open('/content/drive/My Drive/AI(II)/prepared_datasets/Y_val.pkl', 'rb')\n",
    "Y_val = pickle.load(y_val_file)\n",
    "y_val_file.close()\n",
    "\n",
    "# Load Y_test.\n",
    "y_test_file = open('/content/drive/My Drive/AI(II)/prepared_datasets/Y_test.pkl', 'rb')\n",
    "Y_test = pickle.load(y_test_file)\n",
    "y_test_file.close()\n",
    "\n",
    "print(\"X_train's shape:\", X_train.shape)\n",
    "print(\"X_val's shape:\", X_val.shape)\n",
    "print(\"X_test's shape:\", X_test.shape,\"\\n\")\n",
    "print(\"Y_train's shape:\", Y_train.shape)\n",
    "print(\"Y_val's shape:\", Y_val.shape)\n",
    "print(\"Y_test's shape:\", Y_test.shape)"
   ]
  },
  {
   "cell_type": "markdown",
   "metadata": {
    "id": "W-hC8wqNyWXP"
   },
   "source": [
    "## Concatenation of tweets with labels."
   ]
  },
  {
   "cell_type": "code",
   "execution_count": null,
   "metadata": {
    "colab": {
     "base_uri": "https://localhost:8080/"
    },
    "id": "g1PZtGy_ychv",
    "outputId": "213fcda2-8ef6-43d5-d173-a76db1e59256"
   },
   "outputs": [
    {
     "name": "stdout",
     "output_type": "stream",
     "text": [
      "(495012, 2)\n",
      "(2488, 2)\n",
      "(2500, 2)\n"
     ]
    }
   ],
   "source": [
    "train = pd.concat([X_train, Y_train], axis=1)\n",
    "print(train.shape)\n",
    "\n",
    "valid = pd.concat([X_val, Y_val], axis=1)\n",
    "print(valid.shape)\n",
    "\n",
    "test = pd.concat([X_test, Y_test], axis=1)\n",
    "print(test.shape)"
   ]
  },
  {
   "cell_type": "markdown",
   "metadata": {
    "id": "4mtelVElypE_"
   },
   "source": [
    "## Let's check ratio of negative-positive sentiments in our tweets."
   ]
  },
  {
   "cell_type": "code",
   "execution_count": null,
   "metadata": {
    "colab": {
     "base_uri": "https://localhost:8080/"
    },
    "id": "FhCxSr_ay0cd",
    "outputId": "8cb88334-5acd-4dfa-a18e-6ffcaf1697ca"
   },
   "outputs": [
    {
     "data": {
      "text/plain": [
       "1    248360\n",
       "0    246652\n",
       "Name: target, dtype: int64"
      ]
     },
     "execution_count": 4,
     "metadata": {
      "tags": []
     },
     "output_type": "execute_result"
    }
   ],
   "source": [
    "train.target.value_counts()"
   ]
  },
  {
   "cell_type": "code",
   "execution_count": null,
   "metadata": {
    "colab": {
     "base_uri": "https://localhost:8080/"
    },
    "id": "GF0N0pfqy-Fw",
    "outputId": "92e6a0be-32a3-4789-deca-d78ed1c7ff38"
   },
   "outputs": [
    {
     "data": {
      "text/plain": [
       "0    1267\n",
       "1    1221\n",
       "Name: target, dtype: int64"
      ]
     },
     "execution_count": 5,
     "metadata": {
      "tags": []
     },
     "output_type": "execute_result"
    }
   ],
   "source": [
    "valid.target.value_counts()"
   ]
  },
  {
   "cell_type": "code",
   "execution_count": null,
   "metadata": {
    "colab": {
     "base_uri": "https://localhost:8080/"
    },
    "id": "btRuwSVDy9u7",
    "outputId": "12264d36-c9d3-40b1-97c0-ad588ec09e81"
   },
   "outputs": [
    {
     "data": {
      "text/plain": [
       "0    1281\n",
       "1    1219\n",
       "Name: target, dtype: int64"
      ]
     },
     "execution_count": 6,
     "metadata": {
      "tags": []
     },
     "output_type": "execute_result"
    }
   ],
   "source": [
    "test.target.value_counts()"
   ]
  },
  {
   "cell_type": "markdown",
   "metadata": {
    "id": "I1PvBRCNzHoq"
   },
   "source": [
    "## Save our datasets as .csv files."
   ]
  },
  {
   "cell_type": "code",
   "execution_count": null,
   "metadata": {
    "id": "5Z4LuxAezaGE"
   },
   "outputs": [],
   "source": [
    "train.to_csv(\"/content/drive/My Drive/AI(II)/prepared_datasets/train.csv\", index=False)\n",
    "test.to_csv(\"/content/drive/My Drive/AI(II)/prepared_datasets/test.csv\", index=False)\n",
    "valid.to_csv(\"/content/drive/My Drive/AI(II)/prepared_datasets/valid.csv\", index=False)"
   ]
  },
  {
   "cell_type": "markdown",
   "metadata": {
    "id": "12qQYfLi1Gy9"
   },
   "source": [
    "## Create TEXT,LABEL from torchtext.data"
   ]
  },
  {
   "cell_type": "code",
   "execution_count": null,
   "metadata": {
    "id": "i8IOm0Gm1IIC"
   },
   "outputs": [],
   "source": [
    "TEXT = data.Field(dtype=torch.long,sequential=True, tokenize=\"spacy\",batch_first=True)\n",
    "LABEL = data.LabelField(dtype=torch.long, sequential=False)"
   ]
  },
  {
   "cell_type": "markdown",
   "metadata": {
    "id": "rmC8I6_b1QI9"
   },
   "source": [
    "## Loading train, test and validation set. \n"
   ]
  },
  {
   "cell_type": "code",
   "execution_count": null,
   "metadata": {
    "colab": {
     "base_uri": "https://localhost:8080/"
    },
    "id": "6q2Q6ikZ1Rgu",
    "outputId": "49910ec9-9ef6-4772-a521-dfc8fc19036a"
   },
   "outputs": [
    {
     "name": "stdout",
     "output_type": "stream",
     "text": [
      "Number of training examples: 495012\n",
      "Number of valid examples: 2488\n",
      "Number of testing examples: 2500\n"
     ]
    }
   ],
   "source": [
    "train_data, valid_data, test_data = data.TabularDataset.splits( \n",
    "    path=\"/content/drive/My Drive/AI(II)/prepared_datasets/\", \n",
    "    train=\"train.csv\", \n",
    "    validation=\"valid.csv\", \n",
    "    test=\"test.csv\",\n",
    "    format=\"csv\", \n",
    "    skip_header=True, \n",
    "    fields=[('Text', TEXT), ('Label', LABEL)])\n",
    "\n",
    "print(f'Number of training examples: {len(train_data)}')\n",
    "print(f'Number of valid examples: {len(valid_data)}')\n",
    "print(f'Number of testing examples: {len(test_data)}')"
   ]
  },
  {
   "cell_type": "markdown",
   "metadata": {
    "id": "lPiaZFpK1t9Q"
   },
   "source": [
    "## Build Vocabulary"
   ]
  },
  {
   "cell_type": "code",
   "execution_count": null,
   "metadata": {
    "colab": {
     "base_uri": "https://localhost:8080/"
    },
    "id": "fkdfuJOX3x9m",
    "outputId": "844c0ed9-2859-412b-c9e7-d4487d1f1078"
   },
   "outputs": [
    {
     "name": "stdout",
     "output_type": "stream",
     "text": [
      "Unique tokens in TEXT vocabulary: 20002\n",
      "Unique tokens in LABEL vocabulary: 2\n"
     ]
    }
   ],
   "source": [
    "TEXT.build_vocab(train_data, vectors=torchtext.vocab.Vectors(\"/content/drive/MyDrive/AI(II)/glove_models/glove.6B.50d.txt\"),max_size=20000,min_freq=5)\n",
    "LABEL.build_vocab(train_data)\n",
    "\n",
    "print(f\"Unique tokens in TEXT vocabulary: {len(TEXT.vocab)}\")\n",
    "print(f\"Unique tokens in LABEL vocabulary: {len(LABEL.vocab)}\")"
   ]
  },
  {
   "cell_type": "markdown",
   "metadata": {
    "id": "OsWRMwlR6DwQ"
   },
   "source": [
    "## Prepare GPU Cuda."
   ]
  },
  {
   "cell_type": "code",
   "execution_count": null,
   "metadata": {
    "colab": {
     "base_uri": "https://localhost:8080/"
    },
    "id": "hN25lAzQ6Jws",
    "outputId": "431305e2-23ce-43b7-fea8-49d5083da72a"
   },
   "outputs": [
    {
     "name": "stdout",
     "output_type": "stream",
     "text": [
      "Device available for running: \n",
      "cuda\n"
     ]
    }
   ],
   "source": [
    "device = torch.device(\"cuda\" if torch.cuda.is_available() else \"cpu\")\n",
    "print(\"Device available for running: \")\n",
    "print(device)"
   ]
  },
  {
   "cell_type": "markdown",
   "metadata": {
    "id": "IMIhUC4D5San"
   },
   "source": [
    "## Bucket Iterators"
   ]
  },
  {
   "cell_type": "code",
   "execution_count": null,
   "metadata": {
    "id": "tGrIaW4v5WGr"
   },
   "outputs": [],
   "source": [
    "BATCH_SIZE = 512\n",
    "\n",
    "train_iterator, valid_iterator, test_iterator = data.BucketIterator.splits(\n",
    "    (train_data, valid_data, test_data), \n",
    "    sort_key=lambda x: len(x.Text),\n",
    "    batch_size=BATCH_SIZE,\n",
    "    shuffle=True,\n",
    "    device=device)"
   ]
  },
  {
   "cell_type": "markdown",
   "metadata": {
    "id": "BCtgZvmbt6PO"
   },
   "source": [
    "## Implementation of class RNN\n"
   ]
  },
  {
   "cell_type": "code",
   "execution_count": null,
   "metadata": {
    "id": "mgSLE3Xot_Qv"
   },
   "outputs": [],
   "source": [
    "class LSTM_GRU(nn.Module):\n",
    "  \"\"\"\n",
    "  The LSTM/GRU model that will be used to perform Tweet Sentiment Analysis.\n",
    "  \"\"\"\n",
    "\n",
    "  def __init__(self, cell_type, input_size, embedding_size, hidden_size, output_size, embeddings, num_layers, bidirectional, dropout_prob):\n",
    "    \"\"\"\n",
    "    Initialize the model by setting up the layers.\n",
    "    \"\"\"\n",
    "    super(LSTM_GRU, self).__init__()\n",
    "\n",
    "    cells = {\n",
    "    \"LSTM\"    : nn.LSTM,\n",
    "    \"GRU\"     : nn.GRU\n",
    "    }   \n",
    "\n",
    "    # Initializations\n",
    "    self.cell_type = cell_type\n",
    "    self.input_size = input_size\n",
    "    self.embedding_size = embedding_size\n",
    "    self.output_size = output_size\n",
    "    self.num_layers = num_layers\n",
    "    self.bidirectional = bidirectional\n",
    "    self.dropout_prob = dropout_prob\n",
    "    self.hidden_size = hidden_size\n",
    "      \n",
    "    self.embedding = nn.Embedding(input_size, embedding_size)\n",
    "    self.embedding.weight = torch.nn.Parameter(embeddings, requires_grad=False)\n",
    "\n",
    "    self.nn = cells[cell_type](          # Pick the specific model\n",
    "        input_size=self.embedding_size,   # Number of features for each time step\n",
    "        hidden_size=self.hidden_size,     # LSTM/GRU hidden embedding representation\n",
    "        num_layers=self.num_layers,       # Number of layers (if >1 it is a stacked RNN)\n",
    "        bidirectional=self.bidirectional, # If true we have bidirectional \n",
    "        batch_first=True,                 # input & output will have batch size as 1st dimension. e.g. (batch, time_step, input_size)\n",
    "        dropout=self.dropout_prob         # dropout prob >= 0.0\n",
    "    )\n",
    "    \n",
    "    # Dropout layer\n",
    "    if self.dropout_prob > 0.0: \n",
    "      self.dropout = nn.Dropout(self.dropout_prob)\n",
    "    \n",
    "    # Linear layer\n",
    "    if self.bidirectional: \n",
    "      self.linear = nn.Linear(self.hidden_size*2,self.output_size)\n",
    "    else:\n",
    "      self.linear = nn.Linear(self.hidden_size,self.output_size)\n",
    "\n",
    "    # Sigmoid output layer\n",
    "    self.sig = nn.Sigmoid()\n",
    "      \n",
    "  def forward(self, x, hidden):\n",
    "    \"\"\"\n",
    "    Perform a forward pass of our model on some input and hidden state.\n",
    "    \"\"\"\n",
    "    batch_size = x.size(0)\n",
    "\n",
    "    # Embeddings\n",
    "    embed = self.embedding(x)\n",
    "    \n",
    "    # LSTM or GRU\n",
    "    out, hidden = self.nn(embed, hidden)\n",
    "\n",
    "    # Stack up outputs\n",
    "    if self.bidirectional: \n",
    "      out = out.contiguous().view(-1, self.hidden_size*2)\n",
    "    else:\n",
    "      out = out.contiguous().view(-1, self.hidden_size)\n",
    "\n",
    "    # Dropout Layer\n",
    "    if self.dropout_prob > 0.0: \n",
    "      out = self.dropout(out)\n",
    "\n",
    "    # Linear  \n",
    "    out = self.linear(out)\n",
    "    \n",
    "    # Sigmoid function\n",
    "    out = self.sig(out)\n",
    "\n",
    "    # Reshape to be batch_size first and get last batch of labels\n",
    "    out = out.view(batch_size, -1, self.output_size)\n",
    "    out = out[:, -1, :]\n",
    "   \n",
    "    return out.to(device), hidden\n",
    "\n",
    "  def init_hidden(self, batch_size):\n",
    "    ''' Initializes hidden state '''\n",
    "    # Create two new tensors with sizes n_layers x batch_size x hidden_dim, initialized to zero, for hidden state and cell state of LSTM\n",
    "    weight = next(self.parameters()).data\n",
    "    \n",
    "    if self.bidirectional:\n",
    "      if self.cell_type == 'LSTM':\n",
    "        hidden = (weight.new(self.num_layers*2, batch_size, self.hidden_size).zero_().to(device),\n",
    "                  weight.new(self.num_layers*2, batch_size, self.hidden_size).zero_().to(device))\n",
    "      if self.cell_type == 'GRU':\n",
    "        hidden = weight.new(self.num_layers*2, batch_size, self.hidden_size).zero_().to(device)\n",
    "    else:\n",
    "      if self.cell_type == 'LSTM':\n",
    "        hidden = (weight.new(self.num_layers, batch_size, self.hidden_size).zero_().to(device),\n",
    "                  weight.new(self.num_layers, batch_size, self.hidden_size).zero_().to(device))\n",
    "      if self.cell_type == 'GRU':\n",
    "        hidden = weight.new(self.num_layers, batch_size, self.hidden_size).zero_().to(device)\n",
    "\n",
    "    return hidden"
   ]
  },
  {
   "cell_type": "markdown",
   "metadata": {
    "id": "3sB-_jnb2kBU"
   },
   "source": [
    "## Initialization of model and valuable functions"
   ]
  },
  {
   "cell_type": "code",
   "execution_count": null,
   "metadata": {
    "colab": {
     "base_uri": "https://localhost:8080/"
    },
    "id": "ErbpremS2qb0",
    "outputId": "1e4c684d-52e3-464a-e214-2a92c54e98d7"
   },
   "outputs": [
    {
     "name": "stdout",
     "output_type": "stream",
     "text": [
      "LSTM_GRU(\n",
      "  (embedding): Embedding(20002, 50)\n",
      "  (nn): LSTM(50, 128, num_layers=2, batch_first=True, dropout=0.2, bidirectional=True)\n",
      "  (dropout): Dropout(p=0.2, inplace=False)\n",
      "  (linear): Linear(in_features=256, out_features=1, bias=True)\n",
      "  (sig): Sigmoid()\n",
      ")\n"
     ]
    }
   ],
   "source": [
    "########################## HYPERPARAMS #########################################\n",
    "INPUT_DIM = len(TEXT.vocab)                # total words of vocabulary\n",
    "EMBEDDING_DIM = 50                         # each glove vector has 50 dimensions \n",
    "HIDDEN_DIM = 128                           # number of hidden neurons\n",
    "OUTPUT_DIM = 1                             # possible choices \n",
    "num_layers = 2                             # number of layers\n",
    "bidirectional = True                       # bidirectional or not\n",
    "cell_type = 'LSTM'                          # LSTM or GRU\n",
    "dropout_prob = 0.2                         # Dropout probality\n",
    "embeddings = TEXT.vocab.vectors.to(device) # pre trained embeddings\n",
    "################################################################################\n",
    "\n",
    "# Instance of model\n",
    "model = LSTM_GRU(cell_type, INPUT_DIM ,EMBEDDING_DIM, HIDDEN_DIM, OUTPUT_DIM, embeddings, num_layers, bidirectional, dropout_prob)\n",
    "print(model)\n",
    "\n",
    "# Initialization of epochs and learning rate\n",
    "epochs = 10\n",
    "learning_rate = 2e-3\n",
    "\n",
    "# Initialization of optimizer and loss function\n",
    "optimizer = torch.optim.Adam(model.parameters(), lr=learning_rate)   \n",
    "criterion = nn.BCELoss()\n",
    "\n",
    "# Transfer all the computation to GPU (cuda device).\n",
    "model = model.to(device)\n",
    "criterion = criterion.to(device)"
   ]
  },
  {
   "cell_type": "markdown",
   "metadata": {
    "id": "aHGm9uBKkMHn"
   },
   "source": [
    "### Function which calculates accuracy of some predictions"
   ]
  },
  {
   "cell_type": "code",
   "execution_count": null,
   "metadata": {
    "id": "QXgXLwEaEe06"
   },
   "outputs": [],
   "source": [
    "def binary_accuracy(preds, y):\n",
    "  \"\"\"\n",
    "  Returns accuracy per batch, i.e. if you get 85/100 right, this returns 0.85\n",
    "  \"\"\"\n",
    "  # Round predictions to the closest integer\n",
    "  rounded_preds = torch.round(preds)\n",
    "  \n",
    "  # Convert into float for division \n",
    "  correct = (rounded_preds == y).float() \n",
    "\n",
    "  return correct.sum() / len(correct)"
   ]
  },
  {
   "cell_type": "markdown",
   "metadata": {
    "id": "Be-bYImmkS4c"
   },
   "source": [
    "### Function which is gonna train our model"
   ]
  },
  {
   "cell_type": "code",
   "execution_count": null,
   "metadata": {
    "id": "1aFWxu7DEolo"
   },
   "outputs": [],
   "source": [
    "def train(model, iterator, optimizer, criterion, clip, batch_size):\n",
    "  \n",
    "  epoch_loss = 0\n",
    "  epoch_acc = 0\n",
    "  \n",
    "  model.train()\n",
    "  h = model.init_hidden(batch_size)\n",
    "  \n",
    "  for batch in iterator:\n",
    "\n",
    "    if model.cell_type == 'LSTM':\n",
    "      h = tuple([each.data for each in h])\n",
    "    elif model.cell_type == 'GRU':\n",
    "      h.detach_()\n",
    "      h = h.detach()\n",
    "\n",
    "    inputs = batch.Text.to(device)\n",
    "    labels = batch.Label.to(device)\n",
    "    \n",
    "    if inputs.shape[0] == batch_size:\n",
    "    \n",
    "      optimizer.zero_grad()\n",
    "      \n",
    "      predictions, h = model.forward(inputs, h)\n",
    "      \n",
    "      loss = criterion(predictions.squeeze(), labels.float())\n",
    "      loss.backward(retain_graph=True)\n",
    "      \n",
    "      acc = binary_accuracy(predictions.squeeze(), labels.float())\n",
    "      \n",
    "      epoch_loss += loss.item()\n",
    "      epoch_acc += acc.item()\n",
    "\n",
    "      nn.utils.clip_grad_norm_(model.parameters(), clip)\n",
    "\n",
    "      optimizer.step()\n",
    "\n",
    "  return epoch_loss / len(iterator), epoch_acc / len(iterator)"
   ]
  },
  {
   "cell_type": "markdown",
   "metadata": {
    "id": "1ER-zx01kX0Z"
   },
   "source": [
    "### Function which is gonna evaluate our model"
   ]
  },
  {
   "cell_type": "code",
   "execution_count": null,
   "metadata": {
    "id": "EQ3f2aOJEs6j"
   },
   "outputs": [],
   "source": [
    "def evaluate(model, eval_iterator, criterion, batch_size):\n",
    "  \n",
    "  eval_epoch_loss = 0\n",
    "  eval_epoch_acc = 0\n",
    "  \n",
    "  model.eval()\n",
    "  eval_h = model.init_hidden(batch_size)\n",
    "  \n",
    "  with torch.no_grad():\n",
    "  \n",
    "    for eval_batch in eval_iterator:\n",
    "      \n",
    "      if model.cell_type == 'LSTM':\n",
    "        eval_h = tuple([each.data for each in eval_h])\n",
    "      elif model.cell_type == 'GRU':\n",
    "        eval_h.detach_()\n",
    "        eval_h = eval_h.detach()\n",
    "\n",
    "      eval_inputs = eval_batch.Text.to(device)\n",
    "      eval_labels = eval_batch.Label.to(device)\n",
    "\n",
    "      if eval_inputs.shape[0] == batch_size:\n",
    "\n",
    "        eval_predictions, eval_h = model.forward(eval_inputs, eval_h)\n",
    "        \n",
    "        eval_loss = criterion(eval_predictions.squeeze(), eval_labels.float())\n",
    "        \n",
    "        eval_acc = binary_accuracy(eval_predictions.squeeze(), eval_labels.float())\n",
    "\n",
    "        eval_epoch_loss += eval_loss.item()\n",
    "        eval_epoch_acc += eval_acc.item()\n",
    "      \n",
    "  return eval_epoch_loss / len(eval_iterator), eval_epoch_acc / len(eval_iterator)"
   ]
  },
  {
   "cell_type": "markdown",
   "metadata": {
    "id": "nczHsPowkatE"
   },
   "source": [
    "### Function which calculates each epoch's elapsed time."
   ]
  },
  {
   "cell_type": "code",
   "execution_count": null,
   "metadata": {
    "id": "aMz5OgUcE5i5"
   },
   "outputs": [],
   "source": [
    "def epoch_time(start_time, end_time):\n",
    "  elapsed_time = end_time - start_time\n",
    "  elapsed_mins = int(elapsed_time / 60)\n",
    "  elapsed_secs = int(elapsed_time - (elapsed_mins * 60))\n",
    "  return elapsed_mins, elapsed_secs"
   ]
  },
  {
   "cell_type": "markdown",
   "metadata": {
    "id": "kXT9OdX8Ld14"
   },
   "source": [
    "## Train and evaluate our first model"
   ]
  },
  {
   "cell_type": "code",
   "execution_count": null,
   "metadata": {
    "colab": {
     "base_uri": "https://localhost:8080/"
    },
    "id": "GlLazd42E9M5",
    "outputId": "6c0ccabf-b3cf-4301-f519-e862e90dc3ab"
   },
   "outputs": [
    {
     "name": "stdout",
     "output_type": "stream",
     "text": [
      "Epoch: 01 | Epoch Time: 0m 32s\n",
      "\tTrain Loss: 0.575 | Val. Loss: 0.469\n",
      "Epoch: 02 | Epoch Time: 0m 32s\n",
      "\tTrain Loss: 0.491 | Val. Loss: 0.449\n",
      "Epoch: 03 | Epoch Time: 0m 32s\n",
      "\tTrain Loss: 0.466 | Val. Loss: 0.439\n",
      "Epoch: 04 | Epoch Time: 0m 34s\n",
      "\tTrain Loss: 0.447 | Val. Loss: 0.418\n",
      "Epoch: 05 | Epoch Time: 0m 32s\n",
      "\tTrain Loss: 0.432 | Val. Loss: 0.406\n",
      "Epoch: 06 | Epoch Time: 0m 32s\n",
      "\tTrain Loss: 0.420 | Val. Loss: 0.408\n",
      "Epoch: 07 | Epoch Time: 0m 32s\n",
      "\tTrain Loss: 0.409 | Val. Loss: 0.400\n",
      "Epoch: 08 | Epoch Time: 0m 32s\n",
      "\tTrain Loss: 0.399 | Val. Loss: 0.385\n",
      "Epoch: 09 | Epoch Time: 0m 32s\n",
      "\tTrain Loss: 0.389 | Val. Loss: 0.385\n",
      "Epoch: 10 | Epoch Time: 0m 33s\n",
      "\tTrain Loss: 0.381 | Val. Loss: 0.404\n"
     ]
    }
   ],
   "source": [
    "train_losses = []\n",
    "val_losses = []\n",
    "train_accs = []\n",
    "val_accs = []\n",
    "clip = 5\n",
    "\n",
    "for epoch in range(epochs):\n",
    "\n",
    "  start_time = time.time()\n",
    "  \n",
    "  train_loss, train_acc = train(model, train_iterator, optimizer, criterion, clip, BATCH_SIZE)\n",
    "  valid_loss, valid_acc = evaluate(model, valid_iterator, criterion, BATCH_SIZE)\n",
    "  \n",
    "  end_time = time.time()\n",
    "\n",
    "  epoch_mins, epoch_secs = epoch_time(start_time, end_time)\n",
    "\n",
    "  train_losses.append(train_loss)\n",
    "  val_losses.append(valid_loss)\n",
    "  train_accs.append(train_acc)\n",
    "  val_accs.append(valid_acc)\n",
    "  \n",
    "  print(f'Epoch: {epoch+1:02} | Epoch Time: {epoch_mins}m {epoch_secs}s') \n",
    "  print(f'\\tTrain Loss: {train_loss:.3f} | Val. Loss: {valid_loss:.3f}')"
   ]
  },
  {
   "cell_type": "markdown",
   "metadata": {
    "id": "IjCUva9S2Wyr"
   },
   "source": [
    "### Loss vs Epochs "
   ]
  },
  {
   "cell_type": "code",
   "execution_count": null,
   "metadata": {
    "colab": {
     "base_uri": "https://localhost:8080/",
     "height": 639
    },
    "id": "99KieYseoo6S",
    "outputId": "035bb1d3-de44-4b97-a008-100c02c25cb9"
   },
   "outputs": [
    {
     "data": {
      "image/png": "[encoded data removed]",
      "text/plain": [
       "<Figure size 1080x720 with 1 Axes>"
      ]
     },
     "metadata": {
      "needs_background": "light",
      "tags": []
     },
     "output_type": "display_data"
    }
   ],
   "source": [
    "fig,axs = plt.subplots(1,1,figsize=(15,10))\n",
    "\n",
    "early_stopping = 8.1\n",
    "\n",
    "# Plot Train and Validation Losses\n",
    "axs.set_title(\"Train and Validation Losses\",size=25)\n",
    "axs.set_ylabel('Loss', fontsize = 20.0) \n",
    "axs.set_xlabel('Epochs', fontsize = 20) \n",
    "_=axs.plot(train_losses,'-c')\n",
    "_=axs.plot(val_losses,'-m')  \n",
    "_=axs.axvline(x=early_stopping,color='r')\n",
    "_=axs.legend(('Train','Val'),loc='upper right',fontsize='x-large')"
   ]
  },
  {
   "cell_type": "markdown",
   "metadata": {
    "id": "uHSNq3seJvZV"
   },
   "source": [
    "> As we can observe after approximately 9th epoch overfitting starts to happen cause training loss keeps falling, but validation loss starts rising up."
   ]
  },
  {
   "cell_type": "markdown",
   "metadata": {
    "id": "GeBHzZWO2hfk"
   },
   "source": [
    "### Classification report "
   ]
  },
  {
   "cell_type": "code",
   "execution_count": null,
   "metadata": {
    "colab": {
     "base_uri": "https://localhost:8080/"
    },
    "id": "z49NXDHf-gV1",
    "outputId": "3355e559-85d8-489a-9c16-02b3b9f5add2"
   },
   "outputs": [
    {
     "name": "stdout",
     "output_type": "stream",
     "text": [
      "              precision    recall  f1-score   support\n",
      "\n",
      "           0       0.83      0.69      0.75      1219\n",
      "           1       0.75      0.87      0.80      1281\n",
      "\n",
      "    accuracy                           0.78      2500\n",
      "   macro avg       0.79      0.78      0.78      2500\n",
      "weighted avg       0.79      0.78      0.78      2500\n",
      "\n"
     ]
    }
   ],
   "source": [
    "results = []\n",
    "true_labels = []\n",
    "\n",
    "with torch.no_grad():\n",
    "  for batch in test_iterator:\n",
    "    for temp_label in batch.Label:\n",
    "      true_labels.append(temp_label.item())\n",
    "    for text in batch.Text:\n",
    "      text = text.unsqueeze(0)\n",
    "      res, _ = model.forward(text, hidden=None)\n",
    "      target = np.round(res.cpu().numpy())\n",
    "      results.append(target[0])\n",
    "      \n",
    "print(classification_report(true_labels,results))"
   ]
  },
  {
   "cell_type": "markdown",
   "metadata": {
    "id": "pSW0dO_Z2kwT"
   },
   "source": [
    "### ROC Curve"
   ]
  },
  {
   "cell_type": "code",
   "execution_count": null,
   "metadata": {
    "colab": {
     "base_uri": "https://localhost:8080/",
     "height": 520
    },
    "id": "SjxsAEUW_CdV",
    "outputId": "966dfe23-bc82-44f4-ba95-42ef5d266cdd"
   },
   "outputs": [
    {
     "data": {
      "image/png": "[encoded data removed]",
      "text/plain": [
       "<Figure size 576x576 with 1 Axes>"
      ]
     },
     "metadata": {
      "needs_background": "light",
      "tags": []
     },
     "output_type": "display_data"
    }
   ],
   "source": [
    "# Label binarization and store num of classes.\n",
    "y_score = np.array(results)\n",
    "y_test = label_binarize(true_labels, classes=[0, 1])\n",
    "n_classes = y_test.shape[1]\n",
    "\n",
    "# Compute ROC curve and ROC area for each class\n",
    "fpr = dict()\n",
    "tpr = dict()\n",
    "roc_auc = dict()\n",
    "for i in range(n_classes):\n",
    "  fpr[i], tpr[i], _ = roc_curve(y_test[:,i], y_score[:,i])\n",
    "  roc_auc[i] = auc(fpr[i], tpr[i])\n",
    "\n",
    "plt.figure(figsize=(8,8))\n",
    "lw = 2\n",
    "plt.plot(fpr[0], tpr[0], color='darkorange',lw=lw, label='ROC curve (area = %0.2f)' % roc_auc[0])\n",
    "plt.plot([0, 1], [0, 1], color='navy', lw=lw, linestyle='--')\n",
    "plt.xlim([0.0, 1.0])\n",
    "plt.ylim([0.0, 1.05])\n",
    "plt.xlabel('False Positive Rate',fontsize=15)\n",
    "plt.ylabel('True Positive Rate',fontsize=15)\n",
    "plt.title('Receiver operating characteristic example',fontsize=15)\n",
    "plt.legend(loc=\"lower right\",fontsize=15)\n",
    "plt.show()"
   ]
  },
  {
   "cell_type": "markdown",
   "metadata": {
    "id": "G-50J5Ff2waC"
   },
   "source": [
    "### Our final model's hyperparameters "
   ]
  },
  {
   "cell_type": "markdown",
   "metadata": {
    "id": "dPdnbAfj21Tv"
   },
   "source": [
    "> 1. ***LSTM or GRU***\n",
    "\n",
    "    This was the most difficult choice among our hyperparameters, cause it seemed that LSTM and GRU gave us same \n",
    "    results, so they performed well both of them. But finaly we prefered LSTM model and we are gonna explain the reasons \n",
    "    later thoroughly!\n",
    "\n",
    "> 2. ***Bidirectional***\n",
    "  \n",
    "    As a project's requirement we created multiple times only bidirectional models! \n",
    "\n",
    "> 3. ***Number of Layers***\n",
    "\n",
    "    We tried different number of stacked layers on our GRU models, in range of  [2,4], but we conclude that a simpler \n",
    "    model performs greater so 2 layers was our best choice.\n",
    "\n",
    "> 4. ***Hidden Size***\n",
    "\n",
    "    We've been experimented with values in range of [32,512] picking up values which are powers of 2 (2^k). And seems \n",
    "    that the magic number for hidden size of GRU model was 128. Note that because we have bidirectional model after LSTM \n",
    "    model our Linear layer's hidden size innerly is multiplied by 2.\n",
    "   \n",
    "> 5. ***Glove Embedding's Dimensions***\n",
    "\n",
    "    GloVe pre trained embeddings give us the flexibility to choose whichever dimensions we prefer from a variety of \n",
    "    dimensions [25,300]. Due to memory's limit we have to choose something that suits us and finally our choice was 50 \n",
    "    dimensions for each vector. Note that with GloVe we created a vocabulary with top 20.000 'popular' words, because we \n",
    "    observed that we get pretty same results with a vocabulary with all words of our tweets.\n",
    "\n",
    "> 6. ***Dropout***\n",
    "\n",
    "    Firstly we put dropout layer inside GRU model and right after GRU model with a small dropout probality equaled to \n",
    "    0.2. This helped train and validation loss decrease with same rhythm. \n",
    "\n",
    "> 7. ***Optimizer***\n",
    "\n",
    "    From our theory and so much information out there Adam optimizer was very popular, so it was our stable choice.\n",
    "\n",
    "> 8. ***Loss Function***\n",
    "\n",
    "    Also here, cause our problem is binary sentiment classification and due to the fact that our model has a final \n",
    "    sigmoid layer, loss function is Binary Cross Entropy Loss.\n",
    "\n",
    "> 9. ***Epochs***\n",
    "\n",
    "    Turns out that we only need 5-10 epochs to reach the appropriate result that we aimed to.\n",
    "\n",
    "> 10. ***Learning Rate***\n",
    "\n",
    "    The most important hyperparameter was learning rate and after many experiments 2e-3 was pretty descent.\n",
    "   \n",
    "   "
   ]
  },
  {
   "cell_type": "markdown",
   "metadata": {
    "id": "qPFy9zeF39CV"
   },
   "source": [
    "#### Notes about model's improvement procedure."
   ]
  },
  {
   "cell_type": "markdown",
   "metadata": {
    "id": "Wrz9qI0W3-Xy"
   },
   "source": [
    "    Our mindset was first to experiment with one LSTM bidirectional model and find best hyperparameters. We tried firstly to \n",
    "    give us training input dataset of 1.200.000 tweets with split of train and validation/test set with ratio 99%-1%.\n",
    "    This affected our test's accuracy were we managed to gain around 0.69 score, so we decided to give as input the same \n",
    "    number of tweets that we gave in previous best model, which was half of million, which helped us cause our \n",
    "    experiments last less. So we found our dataset size, 500.000 tweets.\n",
    "\n",
    "    After that we tried to find out number of hidden size and number of (stacked) layers on our LSTM model...so we \n",
    "    started from 512 hidden size and 6 layers, because from theory we knew that deeper and complex models have more \n",
    "    potential to perform better. But in contrast to theory we conclude that our model is too complex and that causes \n",
    "    overfitting too much and very bad performance. So we tried firstly to solve that problem of overfitting with adding \n",
    "    inside our LSTM model and right after it dropout layers, with dropout probability range from 0.3 to 0.9. But still \n",
    "    problem of overfitting was there, even though we add weight regularization parameter in our optimizer. So next step was \n",
    "    to make our model less complex so we gradually tried to decrease number of layers and hidden size, so after many \n",
    "    experiments we saw that overfitting started to be a past problem.\n",
    "\n",
    "    So in that point we have locked hidden size to 128 and num of layers 2 (minimum number of layers cause we have \n",
    "    bidirectional model). Learning rate was under research cause some times 1e-2 was pretty good, however other times \n",
    "    1e-2 was too big so we then change it to 1e-3, until we found that 2e-3 was something like our upper boundary. \n",
    "    \n",
    "    Something pretty important was dropout probability, cause when we tried to experiment with model with dropout at all \n",
    "    our model performed worse than when we had a small dropout probability equaled to 0.2, which was our final choice.\n",
    "\n",
    "    Notice that our final choice of batch size was 512, because with that value we managed to avoid overfitting \n",
    "    (cause with small number of batch size, i.e. 32 our model chunked tweets more pieces and was learning much faster, \n",
    "    leading to huge undefeated overfitting). As a plus, with batch size be 512 our experiments last less than when we gave\n",
    "    small values.\n",
    "\n",
    "    Also, we didn't expect that length of vocabulary of pre trained glove model will affect LSTM model, which is our \n",
    "    Embedding's layer input dimension. More specifically it seems that when we didn't use max_size as a parameter, that\n",
    "    leading to the fact that we gave to embedding layer all words of all tweets (whole information) our model was \n",
    "    getting too much information which maybe confused it. On the other hand when we picked our 20.000 most popular words\n",
    "    with each word have a frequency of at least 5 times, maybe model performed better, cause it had as input an \n",
    "    amount of information that could manipulate.\n",
    "\n",
    "    As a note from theory to avoid vanishing gradients we can use gradient clipping, so I used it in with clip equaled to\n",
    "    5 and only to be sure I removed it so as to check if it helps model's training and this was for sure true!\n",
    "\n",
    "    Last but not least, we have to try GRU model instead of LSTM, which are more complex as structure compared to GRUs. \n",
    "    As we have already refered GRU and LSTM model with same hyperparameters had same performance, with only difference \n",
    "    of them be time of training, where GRU needed half time in each epoch compared to LSTM model. Our theory approves \n",
    "    that these two types of RNNs have slight differences, but GRUs are gradually gaining ground due to their simpler \n",
    "    structure (compared to LSTMs). Although we finally prefered LSTM model, because learning curves were smoothier in \n",
    "    validation and training loss. Note that from theory we expected, that due to different number of gates (2 for GRU \n",
    "    and 3 for LSTM), to have different results-performance from these two types of RNNs but didn't come true, which may \n",
    "    be due to our tweet dataset.\n",
    "\n",
    "    After all these experiments, overfitting was avoided until 9th epoch were we 'early stopped' LSTM's training,because \n",
    "    validation loss starts rising compared to training loss."
   ]
  },
  {
   "cell_type": "markdown",
   "metadata": {
    "id": "fUeuPWliMspN"
   },
   "source": [
    "#### Compare our final LSTM model with our previous TfIdf Vectorized best model"
   ]
  },
  {
   "cell_type": "markdown",
   "metadata": {
    "id": "VTHGHKPmQ78d"
   },
   "source": [
    "    1. Firstly we are going to compare our final LSTM model and our previous TfIdf best model based on their scores on \n",
    "    test's dataset. Both models manage to gain a pretty descent score of 0.78 accuracy. Note that in both models train \n",
    "    dataset size was half million cleaned tweets.\n",
    "\n",
    "    2. The big difference between our two models performance is the speed of convergence. More specifically, previous \n",
    "    TfIdf best model achieved 0.78 score in 30 epochs, but our new LSTM model made it in only 10 epochs! This fact is due\n",
    "    to the fact that LSTM model has much more complex structure compared to simple feed forward neural network.\n",
    "\n",
    "    3. Another difference between our two models is that TfIdf model performed 0.78 accuracy in our 3 metrics (Precision,\n",
    "    Recall,F1-Score). However, it seems that our LSTM model gained a variety from 0.69 to 0.87. Also ROC curve for TfIdf \n",
    "    gave us 0.86, but LSTM achieved only 0.78 score. \n",
    "\n",
    "    4. From our theory we expected that our new LSTM model will perform noticeably better than TfIdf model, cause this \n",
    "    kind of problems (classification on text or speech data) is often solved with LSTM or GRU models, or generally with \n",
    "    RNNs, but this belief didn't come true. But maybe the fact, that our previous model had as input TfIdf vectorized \n",
    "    data, with each dimensions of each tweet be 1000 helped our linear layers to have more information leading to \n",
    "    descent score. For our LSTM model embedding layer's dimensions was 50.\n",
    "\n",
    "    5. Some more details about FFNN vs RNN...Let's see firstly about FNNNs!\n",
    "    FFNNs allow signals to travel one way only: from input to output. There are no feedback, loops...so we conclude that \n",
    "    output of any layer does not affect that same layer. Feed-forward ANNs tend to be straightforward networks that \n",
    "    associate inputs with outputs. They are extensively used in pattern recognition. This type of organisation is also \n",
    "    referred to as bottom-up or top-down.\n",
    "    RNNs from the other side, and our specific cell type LSTM models can 'travel' to two ways and for that reason we \n",
    "    call them interactive or dynamic. So all kinds of RNNs have feedback loops in the recurrent layer and thus maintain \n",
    "    information in 'memory' over time. LSTM networks are a type of RNN that uses special units in addition to standard \n",
    "    units. LSTM units include a 'memory cell' that can maintain information in memory for long periods of time. A set of \n",
    "    gates is used to control when information enters the memory, when it's output, and when it's forgotten. This \n",
    "    architecture lets them learn longer-term dependencies. GRUs are similar to LSTMs, but use a simplified structure. \n",
    "    They also use a set of gates to control the flow of information, but they don't use separate memory cells, and they\n",
    "    use fewer gates.\n",
    "\n"
   ]
  }
 ],
 "metadata": {
  "accelerator": "GPU",
  "colab": {
   "collapsed_sections": [],
   "name": "LSTM/GRU_Classifier.ipynb",
   "provenance": []
  },
  "kernelspec": {
   "display_name": "Python 3",
   "language": "python",
   "name": "python3"
  },
  "language_info": {
   "codemirror_mode": {
    "name": "ipython",
    "version": 3
   },
   "file_extension": ".py",
   "mimetype": "text/x-python",
   "name": "python",
   "nbconvert_exporter": "python",
   "pygments_lexer": "ipython3",
   "version": "3.7.6"
  }
 },
 "nbformat": 4,
 "nbformat_minor": 4
}
